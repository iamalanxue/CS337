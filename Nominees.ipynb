{
 "cells": [
  {
   "cell_type": "code",
   "execution_count": 1,
   "id": "dcbd81f3",
   "metadata": {},
   "outputs": [],
   "source": [
    "import pandas as pd\n",
    "import re\n",
    "import operator\n",
    "import string\n",
    "import nltk \n",
    "from nltk.tag import pos_tag\n",
    "pd.set_option('display.width', 10000)"
   ]
  },
  {
   "cell_type": "code",
   "execution_count": 2,
   "id": "38858940",
   "metadata": {},
   "outputs": [],
   "source": [
    "gg = pd.read_json('gg2013.json', orient='records')\n",
    "gg1 = pd.read_json('gg2015.json', orient='records')"
   ]
  },
  {
   "cell_type": "code",
   "execution_count": 17,
   "id": "759e13fc",
   "metadata": {},
   "outputs": [],
   "source": [
    "copy = gg.copy(deep=True)"
   ]
  },
  {
   "cell_type": "code",
   "execution_count": 18,
   "id": "d1ecf143",
   "metadata": {},
   "outputs": [],
   "source": [
    "def removePunc(x):\n",
    "#     new_string = x.translate(str.maketrans('', '', string.punctuation))\n",
    "    x = re.sub(r'[@#]\\w+', '', x) #taking out hashtags and @ \n",
    "    x = re.sub(r'(https?:\\/\\/)?([\\da-z\\.-]+)\\.([a-z\\.]{2,6})([\\/\\w \\.-]*)', '', x) #taking out links \n",
    "    x = re.sub(r'[!?\\.,\\'\\\":()]+', '', x) #taking out punctuation i.e ? ! . ' : ( ) and \" \n",
    "    x = re.sub(r'(RT|rt) ', '', x) #taking out the initial \"RT \"\n",
    "    x= re.sub(r'(g|G)olden (g|G)lobes', '', x)\n",
    "    return x.strip()\n",
    "copy['text'] = copy['text'].str.lower()\n",
    "copy['text'] = copy['text'].apply(lambda x: removePunc(str(x)))"
   ]
  },
  {
   "cell_type": "code",
   "execution_count": 45,
   "id": "675598c7",
   "metadata": {},
   "outputs": [],
   "source": [
    "test = list(copy['text'].values)\n",
    "s = list(set(test))\n",
    "df = pd.DataFrame(s, columns=['text'])"
   ]
  },
  {
   "cell_type": "code",
   "execution_count": 46,
   "id": "e3866a91",
   "metadata": {},
   "outputs": [],
   "source": [
    "df = df.loc[df['text'].str.contains('presents')]\n",
    "df.to_csv('test.csv', index=False)"
   ]
  },
  {
   "cell_type": "code",
   "execution_count": 38,
   "id": "0ecf2ce8",
   "metadata": {},
   "outputs": [],
   "source": [
    "def nGram(text):\n",
    "    test = text\n",
    "    firstsplit = test.split('present', 1)\n",
    "    if len(firstsplit) > 1:\n",
    "        left = firstsplit[0].split(' ')\n",
    "        left.reverse()\n",
    "        new_list = []\n",
    "        x = \"\"\n",
    "        for i in left:\n",
    "            if(i == \"\"):\n",
    "                new_list.append(x) #HACKS\n",
    "                continue\n",
    "            x =  i + \" \" + x \n",
    "            new_list.append(x)\n",
    "        new_list = [x.rstrip() for x in new_list]\n",
    "    else:\n",
    "        new_list = []\n",
    "    return new_list\n",
    "\n",
    "def hashNgrams(dff):\n",
    "    FINAL_NGRAMS = []\n",
    "    NGRAMS_DICT = {}\n",
    "    for i in range(len(dff)):\n",
    "        l = nGram(dff['text'].iloc[i])\n",
    "        for j in l:\n",
    "            if j in NGRAMS_DICT:\n",
    "                NGRAMS_DICT[j] += 1\n",
    "            else:\n",
    "                NGRAMS_DICT[j] = 1\n",
    "    cd = sorted(NGRAMS_DICT.items(),key=lambda x: (x[1], len(x[0])),reverse=True)\n",
    "    return cd"
   ]
  },
  {
   "cell_type": "code",
   "execution_count": 39,
   "id": "4255ad90",
   "metadata": {},
   "outputs": [
    {
     "name": "stdout",
     "output_type": "stream",
     "text": [
      "116942\n",
      "519\n"
     ]
    },
    {
     "data": {
      "text/plain": [
       "[('', 4),\n",
       " ('ben affleck won two awards tonight - best director and best', 1),\n",
       " ('affleck won two awards tonight - best director and best', 1),\n",
       " ('won two awards tonight - best director and best', 1),\n",
       " ('two awards tonight - best director and best', 1),\n",
       " ('awards tonight - best director and best', 1),\n",
       " ('halle berry sexy as always at the', 1),\n",
       " ('tonight - best director and best', 1),\n",
       " ('berry sexy as always at the', 1),\n",
       " ('- best director and best', 1),\n",
       " ('best director and best', 1),\n",
       " ('sexy as always at the', 1),\n",
       " ('director and best', 1),\n",
       " ('as always at the', 1),\n",
       " ('yeah townies re', 1),\n",
       " ('always at the', 1),\n",
       " ('halle berry', 1),\n",
       " ('townies re', 1),\n",
       " ('and best', 1),\n",
       " ('at the', 1),\n",
       " ('berry', 1),\n",
       " ('best', 1),\n",
       " ('the', 1),\n",
       " ('re', 1)]"
      ]
     },
     "execution_count": 39,
     "metadata": {},
     "output_type": "execute_result"
    }
   ],
   "source": [
    "def findRows(x, contains, ncontains):\n",
    "    s = \"^\"\n",
    "    for word in contains:\n",
    "        s += f'(?=.*{word})'\n",
    "    for word in ncontains:\n",
    "        s += f'(?!.*{word})'\n",
    "    s += '.*$'\n",
    "    if bool(re.match(s, x)):\n",
    "        return True\n",
    "    else:\n",
    "        False\n",
    "con = ['director', 'best']\n",
    "noncon = []\n",
    "df['Rows'] = df['text'].apply(lambda x: findRows(x, con, noncon))\n",
    "print(len(df))\n",
    "df.head(20)\n",
    "\n",
    "ccc = df[~df['Rows'].isnull()]\n",
    "print(len(ccc))\n",
    "hashNgrams(ccc)"
   ]
  },
  {
   "cell_type": "code",
   "execution_count": 32,
   "id": "d779652f",
   "metadata": {},
   "outputs": [],
   "source": [
    "ccc.to_csv('test.csv', index=False)"
   ]
  },
  {
   "cell_type": "code",
   "execution_count": null,
   "id": "21a9ccb4",
   "metadata": {},
   "outputs": [],
   "source": [
    "def findAllWinners(matrix):\n",
    "    winners = []\n",
    "    for i in range(0, len(matrix), 2):\n",
    "        con = matrix[i]\n",
    "        noncon = matrix[i+1]\n",
    "        df['Rows'] = df['text'].apply(lambda x: findRows(x, con, noncon))\n",
    "        ccc = df[~df['Rows'].isnull()]\n",
    "        winner = hashNgrams(ccc)\n",
    "        print(winner)\n",
    "        winners.append(winner)\n",
    "    return winners"
   ]
  }
 ],
 "metadata": {
  "kernelspec": {
   "display_name": "Python 3 (ipykernel)",
   "language": "python",
   "name": "python3"
  },
  "language_info": {
   "codemirror_mode": {
    "name": "ipython",
    "version": 3
   },
   "file_extension": ".py",
   "mimetype": "text/x-python",
   "name": "python",
   "nbconvert_exporter": "python",
   "pygments_lexer": "ipython3",
   "version": "3.10.0"
  }
 },
 "nbformat": 4,
 "nbformat_minor": 5
}
