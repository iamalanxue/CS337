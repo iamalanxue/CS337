{
 "cells": [
  {
   "cell_type": "code",
   "execution_count": 65,
   "id": "3d53d390",
   "metadata": {},
   "outputs": [],
   "source": [
    "import pandas as pd\n",
    "import re\n",
    "import copy\n",
    "import operator\n",
    "import string\n",
    "import nltk \n",
    "from nltk import ne_chunk, pos_tag, word_tokenize\n",
    "from nltk.tree import Tree\n",
    "from nltk.corpus import stopwords"
   ]
  },
  {
   "cell_type": "code",
   "execution_count": 2,
   "id": "7c0533ab",
   "metadata": {},
   "outputs": [],
   "source": [
    "gg = pd.read_json('gg2013.json', orient='records')\n",
    "gg1 = pd.read_json('gg2015.json', orient='records')"
   ]
  },
  {
   "cell_type": "code",
   "execution_count": 3,
   "id": "08bb0807",
   "metadata": {
    "scrolled": true
   },
   "outputs": [],
   "source": [
    "copy = gg1.copy(deep=True)"
   ]
  },
  {
   "cell_type": "code",
   "execution_count": 4,
   "id": "d5ff4259",
   "metadata": {},
   "outputs": [],
   "source": [
    "def removePunc(x):\n",
    "    x = re.sub(r'[@#]\\w+', '', x) #taking out hashtags and @ \n",
    "    x = re.sub(r'(https?:\\/\\/)?([\\da-z\\.-]+)\\.([a-z\\.]{2,6})([\\/\\w \\.-]*)', '', x) #taking out links \n",
    "    x = re.sub(r'[!?\\.,\\'\\\":()]+', '', x) #taking out punctuation i.e ? ! . ' and \" \n",
    "    x = re.sub(r'(RT|rt) ', '', x) #taking out the initial \"RT \"\n",
    "    x= re.sub(r'(g|G)olden (g|G)lobes*', '', x)\n",
    "    return x.strip()\n",
    "# copy['text'] = copy['text'].str.lower()\n",
    "copy['text'] = copy['text'].apply(lambda x: removePunc(str(x)))"
   ]
  },
  {
   "cell_type": "code",
   "execution_count": 5,
   "id": "d66a6487",
   "metadata": {
    "scrolled": true
   },
   "outputs": [
    {
     "name": "stdout",
     "output_type": "stream",
     "text": [
      "1754153\n",
      "671347\n"
     ]
    }
   ],
   "source": [
    "#takes out duplicate retweets \n",
    "test = list(copy['text'].values)\n",
    "print(len(test))\n",
    "s = list(set(test))\n",
    "print(len(s))\n",
    "df = pd.DataFrame(s, columns=['text'])"
   ]
  },
  {
   "cell_type": "code",
   "execution_count": 6,
   "id": "b38e76f2",
   "metadata": {},
   "outputs": [
    {
     "name": "stdout",
     "output_type": "stream",
     "text": [
      "3984\n"
     ]
    }
   ],
   "source": [
    "def findRows(x, contains, ncontains):\n",
    "    s = \"^\"\n",
    "    for word in contains:\n",
    "        s += f'(?=.*{word})'\n",
    "    for word in ncontains:\n",
    "        s += f'(?!.*{word})'\n",
    "    s += '.*$'\n",
    "    if bool(re.match(s, x)):\n",
    "        return True\n",
    "    else:\n",
    "        False\n",
    "con = ['Best', 'wins', ]\n",
    "con2 = ['Best']\n",
    "noncon = []\n",
    "df['Rows'] = df['text'].apply(lambda x: findRows(x, con, noncon))\n",
    "ccc = df[~df['Rows'].isnull()]\n",
    "print(len(ccc))"
   ]
  },
  {
   "cell_type": "code",
   "execution_count": 8,
   "id": "91b63ceb",
   "metadata": {},
   "outputs": [],
   "source": [
    "# def findAwards2(text):\n",
    "#     award = \"\"\n",
    "#     right = text.split()\n",
    "#     try:\n",
    "#         ind = right.index('Best') #start at this index right so my first word will always be Bestttttt\n",
    "#     except ValueError as ve: \n",
    "#         return \"\"\n",
    "#     for i in range(ind, len(right)):\n",
    "#         if award == \"\":\n",
    "#                 award = right[i]\n",
    "#         elif right[i] == 'for' or right[i] == 'at':\n",
    "#             return award\n",
    "#         else:\n",
    "#             award = award + ' ' + right[i]\n",
    "#     return award\n",
    "\n"
   ]
  },
  {
   "cell_type": "code",
   "execution_count": 21,
   "id": "e7a8371b",
   "metadata": {},
   "outputs": [],
   "source": [
    "def findAwards(text):\n",
    "    award = \"\"\n",
    "    firstsplit= text.split(' wins ', 1)\n",
    "    if len(firstsplit) > 1:\n",
    "        right = firstsplit[1].split()\n",
    "        try:\n",
    "            bestIndex = right.index('Best') #start at this index right so my first word will always be Bestttttt\n",
    "        except ValueError as ve: \n",
    "            return \"\"\n",
    "        for i in range(bestIndex, len(right)): \n",
    "            if award == \"\":\n",
    "                award = right[i]\n",
    "            elif right[i] == 'for' or right[i] == 'at':\n",
    "                return award\n",
    "            else:\n",
    "                award = award + ' ' + right[i]\n",
    "        award = award.lstrip()\n",
    "    return award\n",
    "    \n",
    "\n",
    "def hashNgramsKai(dff):\n",
    "    FINAL_NGRAMS = []\n",
    "    NGRAMS_DICT = {}\n",
    "    for i in range(len(dff)):\n",
    "\n",
    "        j = findAwards(dff['text'].iloc[i])\n",
    "        if j == \"\":\n",
    "            continue\n",
    "        if j in NGRAMS_DICT:\n",
    "            NGRAMS_DICT[j] += 1\n",
    "        else:\n",
    "            NGRAMS_DICT[j] = 1\n",
    "    cd = sorted(NGRAMS_DICT.items(),key=lambda x: (x[1], len(x[0])),reverse=True)\n",
    "    return cd"
   ]
  },
  {
   "cell_type": "code",
   "execution_count": 115,
   "id": "aef4c17a",
   "metadata": {
    "scrolled": true
   },
   "outputs": [],
   "source": [
    "lisTuples = hashNgramsKai(ccc)"
   ]
  },
  {
   "cell_type": "code",
   "execution_count": 80,
   "id": "c8e05548",
   "metadata": {},
   "outputs": [],
   "source": [
    "cutoff = 5\n",
    "def CUTOFF(tu, num):\n",
    "    B = copy.deepcopy(tu)\n",
    "    removes = []\n",
    "    for i in B:\n",
    "        if (i[1] < num):\n",
    "            removes.append(i)\n",
    "    for re in removes:\n",
    "        B.remove(re)\n",
    "    return B\n"
   ]
  },
  {
   "cell_type": "code",
   "execution_count": 116,
   "id": "a823033e",
   "metadata": {
    "scrolled": true
   },
   "outputs": [],
   "source": [
    "filtered = CUTOFF(lisTuples, cutoff)"
   ]
  },
  {
   "cell_type": "code",
   "execution_count": 113,
   "id": "0d89d3d5",
   "metadata": {},
   "outputs": [],
   "source": [
    "def substringfilter(dic):\n",
    "    keys = list(dic.keys())\n",
    "    numKeys = len(keys)\n",
    "    toRemove = []\n",
    "    for key in range(numKeys-1):\n",
    "        for key2 in range(key+1, numKeys):\n",
    "            if keys[key] in keys[key2]:\n",
    "                toRemove.append(keys[key])\n",
    "    for removeKey in toRemove:\n",
    "        if removeKey in dic:\n",
    "            del dic[removeKey]\n",
    "    return dic"
   ]
  },
  {
   "cell_type": "code",
   "execution_count": 101,
   "id": "ba54752a",
   "metadata": {
    "scrolled": true
   },
   "outputs": [],
   "source": [
    "def Convert(tup):\n",
    "    return dict(tup)\n",
    "    \n",
    "ddd = Convert(filtered)"
   ]
  },
  {
   "cell_type": "code",
   "execution_count": 114,
   "id": "a4ebbacd",
   "metadata": {
    "scrolled": false
   },
   "outputs": [
    {
     "data": {
      "text/plain": [
       "{'Best Actor in a Motion Picture Drama': 68,\n",
       " 'Best Actor in a TV Series Drama': 61,\n",
       " 'Best Supporting Actor in a Motion Picture': 38,\n",
       " 'Best Screenplay': 29,\n",
       " 'Best Motion Picture Musical or Comedy': 28,\n",
       " 'Best TV Series Drama': 23,\n",
       " 'Best Picture - Comedy': 22,\n",
       " 'Best Drama': 22,\n",
       " 'Best Motion Picture Comedy or Musical': 21,\n",
       " 'Best Actor in a Drama': 20,\n",
       " 'Best Actor Drama': 19,\n",
       " 'Best Actor in a Motion Picture Comedy or Musical': 18,\n",
       " 'Best Actor in a TV Drama': 18,\n",
       " 'Best Actress in a Miniseries or TV Movie': 17,\n",
       " 'Best motion picture - drama': 17,\n",
       " 'Best Actor in a Comedy': 17,\n",
       " 'Best Actor TV Drama': 15,\n",
       " 'Best Actress Drama': 15,\n",
       " 'Best Animated Film': 15,\n",
       " 'Best Supporting Actor in a Series Miniseries or TV Movie': 14,\n",
       " 'Best Supporting Actress in a Motion Picture': 14,\n",
       " 'Best Actress in a Motion Picture Drama': 14,\n",
       " 'Best Director Motion Picture': 14,\n",
       " 'Best TV Comedy': 14,\n",
       " 'Best Actress in a Motion Picture Comedy or Musical': 13,\n",
       " 'Best Actress in a TV Series Drama': 13,\n",
       " 'Best TV Drama': 13,\n",
       " 'Best Picture Comedy or Musical': 12,\n",
       " 'Best Actress in a Drama': 12,\n",
       " 'Best Picture Musical or Comedy': 11,\n",
       " 'Best Actress in a TV Drama': 11,\n",
       " 'Best Foreign Film': 11,\n",
       " 'Best Foreign Language Film': 10,\n",
       " 'Best Actress TV Drama': 10,\n",
       " 'Best Actress in a TV Series Musical or Comedy': 9,\n",
       " 'Best Supporting Actress in TV': 9,\n",
       " 'Best Score': 9,\n",
       " 'Best Supporting Actress in a TV series': 8,\n",
       " 'Best Actress Motion Picture Drama': 8,\n",
       " 'Best Motion Picture - Drama': 8,\n",
       " 'Best Picture Drama': 8,\n",
       " 'Best TV Series Comedy or Musical': 7,\n",
       " 'Best Actress - TV Series Comedy': 7,\n",
       " 'Best Director - Motion Picture': 7,\n",
       " 'Best Motion Picture Drama //': 7,\n",
       " 'Best Actress in a TV Comedy': 7,\n",
       " 'Best TV Movie or Miniseries': 7,\n",
       " 'Best Actor in a TV Comedy': 7,\n",
       " 'Best Actress in a TV Movie or Miniseries': 6,\n",
       " 'Best Actor in a Motion Picture - Drama': 6,\n",
       " 'Best Actress Motion Picture Comedy': 6,\n",
       " 'Best Actress in TV Series Drama': 6,\n",
       " 'Best Animated Feature Film ”': 6,\n",
       " 'Best Actor in a Mini-Series': 6,\n",
       " 'Best Supporting Actor in TV': 6,\n",
       " 'Best Picture Comedy/Musical': 6,\n",
       " 'Best Film--Musical/Comedy': 6,\n",
       " 'Best TV Series - Drama': 6,\n",
       " 'Best Song': 6,\n",
       " 'Best Supporting Actress in a Series Miniseries or TV Movie': 5,\n",
       " 'Best Actress in a Mini-Series or TV Movie': 5,\n",
       " 'Best Looking In and Out of Character //': 5,\n",
       " 'Best Original Score in a Motion Picture': 5,\n",
       " 'Best Motion Picture - Comedy or Musical': 5,\n",
       " 'Best Original Song in a Motion Picture': 5,\n",
       " 'Best Actor in a Miniseries or TV Movie': 5,\n",
       " 'Best Supporting Actress Motion Picture': 5,\n",
       " 'Best Actress in a Comedy or Musical': 5,\n",
       " 'Best TV Series Musical or Comedy': 5,\n",
       " 'Best Actor Comedy or Musical': 5,\n",
       " 'Best Actor TV Series Comedy': 5,\n",
       " 'Best Foreign Language film': 5,\n",
       " 'Best Beard Seems to be the': 5,\n",
       " 'Best Supporting Actor //': 5,\n",
       " 'Best Actor in a drama': 5,\n",
       " 'Best Comedy/Musical': 5,\n",
       " 'Best Film - Drama': 5}"
      ]
     },
     "execution_count": 114,
     "metadata": {},
     "output_type": "execute_result"
    }
   ],
   "source": [
    "substringfilter(ddd)"
   ]
  },
  {
   "cell_type": "code",
   "execution_count": 12,
   "id": "f649840e",
   "metadata": {},
   "outputs": [],
   "source": [
    "# text = '''\n",
    "# Ben Affleck wins Best Director  AKA the In Your Face Matt Damon Award\n",
    "# '''\n",
    "\n",
    "# nltk_results = ne_chunk(pos_tag(word_tokenize(text)))\n",
    "# for nltk_result in nltk_results:\n",
    "#     print(nltk_result)\n",
    "#     if type(nltk_result) != Tree and nltk_result[1] == 'NNP':\n",
    "#         print(nltk_result)\n",
    "#         name = ''\n",
    "#         for nltk_result_leaf in nltk_result.leaves():\n",
    "#             name += nltk_result_leaf[0] + ' '\n",
    "#         print ('Type: ', nltk_result.label(), 'Name: ', name)"
   ]
  },
  {
   "cell_type": "code",
   "execution_count": 13,
   "id": "f9bce8fa",
   "metadata": {
    "scrolled": true
   },
   "outputs": [],
   "source": [
    "# def findNames(text):\n",
    "#     names = []\n",
    "#     firstsplit = text.split(' wins ', 1)\n",
    "#     if len(firstsplit) > 1:\n",
    "#         right = firstsplit[1].split()\n",
    "#         for word in right:\n",
    "#             if word[0].isupper():\n",
    "#                 names.append(word)\n",
    "#         return names\n",
    "#     else:\n",
    "#         return []\n",
    "            \n",
    "            \n",
    "#     nltk_results = ne_chunk(pos_tag(word_tokenize(text)))\n",
    "#     for nltk_result in nltk_results:\n",
    "#         if type(nltk_result) != Tree and nltk_result[1] == 'NNP':\n",
    "#             names.append(nltk_result[0])\n",
    "#     return names\n",
    "#             name = ''\n",
    "#             for nltk_result_leaf in nltk_result.leaves():\n",
    "#                 name += nltk_result_leaf[0] + ' '\n",
    "# #             print ('Type: ', nltk_result.label(), 'Name: ', name)\n",
    "#                 names.append(name)\n",
    "# ccc['names'] = ccc['text'].apply(lambda x: findNames(x))\n",
    "# ccc.head()"
   ]
  },
  {
   "cell_type": "code",
   "execution_count": 14,
   "id": "37d480ff",
   "metadata": {},
   "outputs": [],
   "source": [
    "# def nGram(text):\n",
    "#     text.reverse()\n",
    "#     new_list = []\n",
    "#     x = ''\n",
    "#     for i in text:\n",
    "#         x = i + ' ' + x\n",
    "#         new_list.append(x)\n",
    "#     new_list = [x.rstrip() for x in new_list]\n",
    "#     return new_list\n",
    "\n",
    "\n",
    "# def hashNgrams(dff):\n",
    "#     FINAL_NGRAMS = []\n",
    "#     NGRAMS_DICT = {}\n",
    "#     for i in range(len(dff)):\n",
    "#         l = nGram(dff['names'].iloc[i])\n",
    "#         for j in l:\n",
    "#             if j in NGRAMS_DICT:\n",
    "#                 NGRAMS_DICT[j] += 1\n",
    "#             else:\n",
    "#                 NGRAMS_DICT[j] = 1\n",
    "#     cd = sorted(NGRAMS_DICT.items(),key=lambda x: (x[1], len(x[0])),reverse=True)\n",
    "#     return cd"
   ]
  },
  {
   "cell_type": "code",
   "execution_count": 15,
   "id": "f166d990",
   "metadata": {
    "scrolled": false
   },
   "outputs": [],
   "source": [
    "# hashNgrams(ccc)"
   ]
  },
  {
   "cell_type": "code",
   "execution_count": 16,
   "id": "c33c34f1",
   "metadata": {},
   "outputs": [],
   "source": [
    "# def what(text):\n",
    "#     tweet = text.split()\n",
    "#     ind = tweet.index('Best')\n",
    "#     if len(tweet) > 1:\n",
    "        "
   ]
  },
  {
   "cell_type": "code",
   "execution_count": 17,
   "id": "2e5bdd97",
   "metadata": {},
   "outputs": [],
   "source": [
    "# def nGram(text):\n",
    "#     test = text\n",
    "#     firstsplit = test.split('Best', 1)\n",
    "#     if len(firstsplit) > 1:\n",
    "#         left = firstsplit[0].split(' ')\n",
    "#         left.reverse()\n",
    "#         right = firstsplit[1].split(' ')\n",
    "#         new_list = []\n",
    "#         x = \"\"\n",
    "#         for i in left:\n",
    "#             x =  i + x + ' '\n",
    "#             new_list.append(x)\n",
    "#         x = \"\"\n",
    "#         for i in right:\n",
    "#             x = x + i + ' '\n",
    "#             new_list.append(x)\n",
    "#         new_list = [x.rstrip() for x in new_list]\n",
    "#     else:\n",
    "#         new_list = []\n",
    "#     return new_list"
   ]
  },
  {
   "cell_type": "code",
   "execution_count": 18,
   "id": "e5cdb13f",
   "metadata": {},
   "outputs": [],
   "source": [
    "# FINAL_NGRAMS = []\n",
    "# NGRAMS_DICT = {}\n",
    "# for i in range(len(df)):\n",
    "    \n",
    "#     l = nGram(df['text'].iloc[i])\n",
    "#     for j in l:\n",
    "#         if j in NGRAMS_DICT:\n",
    "#             NGRAMS_DICT[j] += 1\n",
    "#         else:\n",
    "#             NGRAMS_DICT[j] = 1\n",
    "# cd = sorted(NGRAMS_DICT.items(),key=operator.itemgetter(1),reverse=True)\n",
    "# cd"
   ]
  }
 ],
 "metadata": {
  "kernelspec": {
   "display_name": "Python 3 (ipykernel)",
   "language": "python",
   "name": "python3"
  },
  "language_info": {
   "codemirror_mode": {
    "name": "ipython",
    "version": 3
   },
   "file_extension": ".py",
   "mimetype": "text/x-python",
   "name": "python",
   "nbconvert_exporter": "python",
   "pygments_lexer": "ipython3",
   "version": "3.10.0"
  }
 },
 "nbformat": 4,
 "nbformat_minor": 5
}
