{
 "cells": [
  {
   "cell_type": "code",
   "execution_count": 1,
   "id": "d224947e",
   "metadata": {},
   "outputs": [],
   "source": [
    "import pandas as pd\n",
    "import re\n",
    "import operator\n",
    "import string\n",
    "import nltk \n",
    "from nltk import ne_chunk, pos_tag, word_tokenize\n",
    "from nltk.tree import Tree\n",
    "pd.set_option('display.width', 10000)"
   ]
  },
  {
   "cell_type": "code",
   "execution_count": 2,
   "id": "4ce29228",
   "metadata": {},
   "outputs": [],
   "source": [
    "gg = pd.read_json('gg2013.json', orient='records')\n",
    "gg1 = pd.read_json('gg2015.json', orient='records')"
   ]
  },
  {
   "cell_type": "code",
   "execution_count": 3,
   "id": "fcbf32ae",
   "metadata": {},
   "outputs": [],
   "source": [
    "copy = gg1.copy(deep=True)"
   ]
  },
  {
   "cell_type": "code",
   "execution_count": 4,
   "id": "3240d2c6",
   "metadata": {},
   "outputs": [],
   "source": [
    "def removePunc(x):\n",
    "    x = re.sub(r'[@#]\\w+', '', x) #taking out hashtags and @ \n",
    "    x = re.sub(r'(https?:\\/\\/)?([\\da-z\\.-]+)\\.([a-z\\.]{2,6})([\\/\\w \\.-]*)', '', x) #taking out links \n",
    "    x = re.sub(r'[!?\\.,\\'\\\":()]+', '', x) #taking out punctuation i.e ? ! . ' and \" \n",
    "    x = re.sub(r'(RT|rt) ', '', x) #taking out the initial \"RT \"\n",
    "    x= re.sub(r'(g|G)olden (g|G)lobes*', '', x)\n",
    "    return x.strip()\n",
    "# copy['text'] = copy['text'].str.lower()\n",
    "copy['text'] = copy['text'].apply(lambda x: removePunc(str(x)))"
   ]
  },
  {
   "cell_type": "code",
   "execution_count": 5,
   "id": "563cb79c",
   "metadata": {},
   "outputs": [
    {
     "name": "stdout",
     "output_type": "stream",
     "text": [
      "1754153\n",
      "671347\n"
     ]
    }
   ],
   "source": [
    "#takes out duplicate retweets \n",
    "test = list(copy['text'].values)\n",
    "print(len(test))\n",
    "s = list(set(test))\n",
    "print(len(s))\n",
    "df = pd.DataFrame(s, columns=['text'])"
   ]
  },
  {
   "cell_type": "code",
   "execution_count": 6,
   "id": "fdd75390",
   "metadata": {},
   "outputs": [
    {
     "name": "stdout",
     "output_type": "stream",
     "text": [
      "492\n"
     ]
    }
   ],
   "source": [
    "def findRows(x, contains, ncontains):\n",
    "    s = \"^\"\n",
    "    for word in contains:\n",
    "        s += f'(?=.*{word})'\n",
    "    for word in ncontains:\n",
    "        s += f'(?!.*{word})'\n",
    "    s += '.*$'\n",
    "    if bool(re.match(s, x)):\n",
    "        return True\n",
    "    else:\n",
    "        False\n",
    "con = ['Best', 'dressed']\n",
    "noncon = []\n",
    "df['Rows'] = df['text'].apply(lambda x: findRows(x, con, noncon))\n",
    "ccc = df[~df['Rows'].isnull()]\n",
    "print(len(ccc))"
   ]
  },
  {
   "cell_type": "code",
   "execution_count": 7,
   "id": "fdd412d3",
   "metadata": {},
   "outputs": [],
   "source": [
    "ccc.to_csv('bestdressed.csv', index=False)"
   ]
  },
  {
   "cell_type": "code",
   "execution_count": 8,
   "id": "cbd6e615",
   "metadata": {},
   "outputs": [],
   "source": [
    "# def findProperNouns(sen):\n",
    "#     tagged_sent = pos_tag(sen.split())\n",
    "#     propernouns = [word for word,pos in tagged_sent if pos == 'NNP']\n",
    "#     return propernouns\n",
    "# ccc['ProperNouns'] = ccc['text'].apply(lambda x: findProperNouns(x))\n",
    "# ccc.head(10)"
   ]
  },
  {
   "cell_type": "code",
   "execution_count": 9,
   "id": "57aa0cf6",
   "metadata": {},
   "outputs": [],
   "source": [
    "def findPersonNames(text):\n",
    "# text = 'Jessica Chastain so far is the best dressed Best body at the  ðŸ˜'\n",
    "    names = []\n",
    "    nltk_results = ne_chunk(pos_tag(word_tokenize(text)))\n",
    "    for nltk_result in nltk_results:\n",
    "        if type(nltk_result) == Tree:\n",
    "            name = ''\n",
    "            for nltk_result_leaf in nltk_result.leaves():\n",
    "                if nltk_result_leaf[0] != 'Best':\n",
    "                    name += nltk_result_leaf[0] + ' '\n",
    "            names.append(name.strip())\n",
    "#             print ('Type: ', nltk_result.label(), 'Name: ', name)\n",
    "    return names"
   ]
  },
  {
   "cell_type": "code",
   "execution_count": 10,
   "id": "ed96dc1c",
   "metadata": {},
   "outputs": [
    {
     "name": "stderr",
     "output_type": "stream",
     "text": [
      "C:\\Users\\alanx\\AppData\\Local\\Temp/ipykernel_20548/561391673.py:1: SettingWithCopyWarning: \n",
      "A value is trying to be set on a copy of a slice from a DataFrame.\n",
      "Try using .loc[row_indexer,col_indexer] = value instead\n",
      "\n",
      "See the caveats in the documentation: https://pandas.pydata.org/pandas-docs/stable/user_guide/indexing.html#returning-a-view-versus-a-copy\n",
      "  ccc['ProperNouns'] = ccc['text'].apply(lambda x: findPersonNames(x))\n"
     ]
    }
   ],
   "source": [
    "ccc['ProperNouns'] = ccc['text'].apply(lambda x: findPersonNames(x))"
   ]
  },
  {
   "cell_type": "code",
   "execution_count": 11,
   "id": "332f0935",
   "metadata": {
    "scrolled": true
   },
   "outputs": [
    {
     "data": {
      "text/html": [
       "<div>\n",
       "<style scoped>\n",
       "    .dataframe tbody tr th:only-of-type {\n",
       "        vertical-align: middle;\n",
       "    }\n",
       "\n",
       "    .dataframe tbody tr th {\n",
       "        vertical-align: top;\n",
       "    }\n",
       "\n",
       "    .dataframe thead th {\n",
       "        text-align: right;\n",
       "    }\n",
       "</style>\n",
       "<table border=\"1\" class=\"dataframe\">\n",
       "  <thead>\n",
       "    <tr style=\"text-align: right;\">\n",
       "      <th></th>\n",
       "      <th>text</th>\n",
       "      <th>Rows</th>\n",
       "      <th>ProperNouns</th>\n",
       "    </tr>\n",
       "  </thead>\n",
       "  <tbody>\n",
       "    <tr>\n",
       "      <th>216</th>\n",
       "      <td>Best dressed so far Id say Naomi Watts Love th...</td>\n",
       "      <td>True</td>\n",
       "      <td>[Naomi Watts]</td>\n",
       "    </tr>\n",
       "    <tr>\n",
       "      <th>1828</th>\n",
       "      <td>OMG - Kate Beckinsdale is perfection Best dres...</td>\n",
       "      <td>True</td>\n",
       "      <td>[OMG, Kate Beckinsdale, ]</td>\n",
       "    </tr>\n",
       "    <tr>\n",
       "      <th>3252</th>\n",
       "      <td>“ SWOON ALEBest dressed men at the  //” excuse...</td>\n",
       "      <td>True</td>\n",
       "      <td>[SWOON]</td>\n",
       "    </tr>\n",
       "    <tr>\n",
       "      <th>3617</th>\n",
       "      <td>Best dressed</td>\n",
       "      <td>True</td>\n",
       "      <td>[]</td>\n",
       "    </tr>\n",
       "    <tr>\n",
       "      <th>3723</th>\n",
       "      <td>Best dressed noms Rosamund Pike Jessica Chaist...</td>\n",
       "      <td>True</td>\n",
       "      <td>[Rosamund Pike Jessica Chaistain, Jennifer Lopez]</td>\n",
       "    </tr>\n",
       "    <tr>\n",
       "      <th>5268</th>\n",
       "      <td>Best dressed  shut it down</td>\n",
       "      <td>True</td>\n",
       "      <td>[]</td>\n",
       "    </tr>\n",
       "    <tr>\n",
       "      <th>6112</th>\n",
       "      <td>GORGEOUS Best dressed in my eyes</td>\n",
       "      <td>True</td>\n",
       "      <td>[GORGEOUS, ]</td>\n",
       "    </tr>\n",
       "    <tr>\n",
       "      <th>7246</th>\n",
       "      <td>Best dressed according to me pa2 Matt Bomer Ch...</td>\n",
       "      <td>True</td>\n",
       "      <td>[Matt Bomer Chris Pine, Eddie Redmayne]</td>\n",
       "    </tr>\n",
       "    <tr>\n",
       "      <th>7556</th>\n",
       "      <td>Best dressed Julianne Moore Emma Stone Lorde T...</td>\n",
       "      <td>True</td>\n",
       "      <td>[Julianne Moore Emma Stone Lorde Taylor Schill...</td>\n",
       "    </tr>\n",
       "    <tr>\n",
       "      <th>7766</th>\n",
       "      <td>Best dressed couple  adamlevine</td>\n",
       "      <td>True</td>\n",
       "      <td>[]</td>\n",
       "    </tr>\n",
       "  </tbody>\n",
       "</table>\n",
       "</div>"
      ],
      "text/plain": [
       "                                                   text  Rows                                        ProperNouns\n",
       "216   Best dressed so far Id say Naomi Watts Love th...  True                                      [Naomi Watts]\n",
       "1828  OMG - Kate Beckinsdale is perfection Best dres...  True                          [OMG, Kate Beckinsdale, ]\n",
       "3252  “ SWOON ALEBest dressed men at the  //” excuse...  True                                            [SWOON]\n",
       "3617                                       Best dressed  True                                                 []\n",
       "3723  Best dressed noms Rosamund Pike Jessica Chaist...  True  [Rosamund Pike Jessica Chaistain, Jennifer Lopez]\n",
       "5268                         Best dressed  shut it down  True                                                 []\n",
       "6112                   GORGEOUS Best dressed in my eyes  True                                       [GORGEOUS, ]\n",
       "7246  Best dressed according to me pa2 Matt Bomer Ch...  True            [Matt Bomer Chris Pine, Eddie Redmayne]\n",
       "7556  Best dressed Julianne Moore Emma Stone Lorde T...  True  [Julianne Moore Emma Stone Lorde Taylor Schill...\n",
       "7766                    Best dressed couple  adamlevine  True                                                 []"
      ]
     },
     "execution_count": 11,
     "metadata": {},
     "output_type": "execute_result"
    }
   ],
   "source": [
    "ccc.head(10)"
   ]
  },
  {
   "cell_type": "code",
   "execution_count": 12,
   "id": "1afb3d41",
   "metadata": {},
   "outputs": [
    {
     "data": {
      "text/plain": [
       "492"
      ]
     },
     "execution_count": 12,
     "metadata": {},
     "output_type": "execute_result"
    }
   ],
   "source": [
    "len(ccc)"
   ]
  },
  {
   "cell_type": "code",
   "execution_count": 13,
   "id": "c9d55e46",
   "metadata": {},
   "outputs": [],
   "source": [
    "NGRAMS_DICT = {}\n",
    "for i in range(len(ccc)):\n",
    "    PN = ccc['ProperNouns'].iloc[i]\n",
    "    if len(PN) % 2 == 0 and len(PN) > 0: \n",
    "        for j in PN:\n",
    "            if j == '': #take out empty string for some reason its added in there wack\n",
    "                continue\n",
    "            name = j\n",
    "            if len(name.split()) > 2:\n",
    "                multipleNames = name.split()\n",
    "                for n in range(0, len(multipleNames)-1, 2):\n",
    "                    name = multipleNames[n] + ' ' + multipleNames[n+1]\n",
    "            else:\n",
    "                name = j\n",
    "            if name in NGRAMS_DICT:\n",
    "                NGRAMS_DICT[name] += 1\n",
    "            else:\n",
    "                NGRAMS_DICT[name] = 1"
   ]
  },
  {
   "cell_type": "code",
   "execution_count": 14,
   "id": "ce524ab6",
   "metadata": {},
   "outputs": [
    {
     "data": {
      "text/plain": [
       "[('Kate Hudson', 15),\n",
       " ('ALEBest', 10),\n",
       " ('SWOON', 9),\n",
       " ('Versace', 6),\n",
       " ('Kate', 6),\n",
       " ('Amal Clooney', 5),\n",
       " ('Emma Stone', 5),\n",
       " ('Awards', 5),\n",
       " ('Felicity Jones', 4),\n",
       " ('Chrissy Teigen', 4),\n",
       " ('Jessica', 4),\n",
       " ('Jennifer Lopez', 3),\n",
       " ('Julianne Moore', 3),\n",
       " ('Sienna Miller', 3),\n",
       " ('Emily Blunt', 3),\n",
       " ('Viola Davis', 3),\n",
       " ('Amy Adams', 3),\n",
       " ('OBSESSED', 3),\n",
       " ('Hudson', 3),\n",
       " ('Whos', 3),\n",
       " ('POW', 3),\n",
       " ('Amy', 3),\n",
       " ('Reese Witherspoon', 2),\n",
       " ('Allison Williams', 2),\n",
       " ('Jennifer Aniston', 2),\n",
       " ('Kerry Washington', 2),\n",
       " ('Conchita Wurst', 2),\n",
       " ('Lupita Nyongo', 2),\n",
       " ('Classic Worst', 2),\n",
       " ('Rosamund Pike', 2),\n",
       " ('John Legend', 2),\n",
       " ('Stone Naomi', 2),\n",
       " ('Danes Amal', 2),\n",
       " ('Red Carpet', 2),\n",
       " ('Jared Leto', 2),\n",
       " ('Beautiful', 2),\n",
       " ('Clooney', 2),\n",
       " ('Lupita', 2),\n",
       " ('Lanvin', 2),\n",
       " ('Simply', 2),\n",
       " ('Worst', 2),\n",
       " ('Faris', 2),\n",
       " ('Jenna', 2),\n",
       " ('Hands', 2),\n",
       " ('Lorde', 2),\n",
       " ('Emma', 2),\n",
       " ('Reem', 2),\n",
       " ('Matt', 2),\n",
       " ('Amal', 2),\n",
       " ('Per', 2),\n",
       " ('Im', 2),\n",
       " ('Giambattista Valli', 1),\n",
       " ('Supporting Actress', 1),\n",
       " ('Jessica Chaistain', 1),\n",
       " ('Reece Witherspoon', 1),\n",
       " ('Narciso Rodriguez', 1),\n",
       " ('Kate Beckinsale', 1),\n",
       " ('Alison Williams', 1),\n",
       " ('Eddie Redmayne', 1),\n",
       " ('Dakota Johnson', 1),\n",
       " ('Marilyn Monroe', 1),\n",
       " ('Justin Theroux', 1),\n",
       " ('Gina Rodriguez', 1),\n",
       " ('Spiderman Emma', 1),\n",
       " ('Chrissy Teigan', 1),\n",
       " ('George Always', 1),\n",
       " ('Miss Jennifer', 1),\n",
       " ('Dominion Post', 1),\n",
       " ('Greer Grammer', 1),\n",
       " ('Anna Kendrick', 1),\n",
       " ('Blunt Sienna', 1),\n",
       " ('Alan Cumming', 1),\n",
       " ('Calvin Klein', 1),\n",
       " ('Thought Kate', 1),\n",
       " ('Kristen Wiig', 1),\n",
       " ('Murad Lanvin', 1),\n",
       " ('GoldenGlobes', 1),\n",
       " ('Armani Prive', 1),\n",
       " ('dressedAmal', 1),\n",
       " ('Haand Salma', 1),\n",
       " ('Naomi Watts', 1),\n",
       " ('Kruger Amal', 1),\n",
       " ('Jen Aniston', 1),\n",
       " ('Queen Lorde', 1),\n",
       " ('Moore Worst', 1),\n",
       " ('Lena Dunham', 1),\n",
       " ('Chris Pine', 1),\n",
       " ('Jane Fonda', 1),\n",
       " ('Matt Bomer', 1),\n",
       " ('Awards S//', 1),\n",
       " ('Really HOT', 1),\n",
       " ('Heidi Klum', 1),\n",
       " ('PERFECTION', 1),\n",
       " ('GORGEOUS', 1),\n",
       " ('Love Hot', 1),\n",
       " ('Arquette', 1),\n",
       " ('Jennifer', 1),\n",
       " ('Tom Ford', 1),\n",
       " ('Gorgeous', 1),\n",
       " ('Fabulize', 1),\n",
       " ('Chastain', 1),\n",
       " ('FLAWLESS', 1),\n",
       " ('Redmayne', 1),\n",
       " ('Maaaaatt', 1),\n",
       " ('Goddess', 1),\n",
       " ('GREY Of', 1),\n",
       " ('Biggest', 1),\n",
       " ('DROPPED', 1),\n",
       " ('AMAZING', 1),\n",
       " ('Braless', 1),\n",
       " ('Alright', 1),\n",
       " ('Perfect', 1),\n",
       " ('Alison', 1),\n",
       " ('Armani', 1),\n",
       " ('Nyongo', 1),\n",
       " ('Keaton', 1),\n",
       " ('Joshua', 1),\n",
       " ('Lorena', 1),\n",
       " ('Zuhair', 1),\n",
       " ('Simple', 1),\n",
       " ('DIANE', 1),\n",
       " ('Patch', 1),\n",
       " ('Lopez', 1),\n",
       " ('LOOKS', 1),\n",
       " ('Hello', 1),\n",
       " ('Diane', 1),\n",
       " ('Kevin', 1),\n",
       " ('Reece', 1),\n",
       " ('Tatum', 1),\n",
       " ('Eddie', 1),\n",
       " ('Blunt', 1),\n",
       " ('Adams', 1),\n",
       " ('Male', 1),\n",
       " ('KATE', 1),\n",
       " ('LOVE', 1),\n",
       " ('sJoe', 1),\n",
       " ('AMAL', 1),\n",
       " ('Lady', 1),\n",
       " ('News', 1),\n",
       " ('Guys', 1),\n",
       " ('MUST', 1),\n",
       " ('Does', 1),\n",
       " ('UZO', 1),\n",
       " ('Jlo', 1),\n",
       " ('Red', 1),\n",
       " ('Get', 1),\n",
       " ('JLo', 1),\n",
       " ('Miu', 1),\n",
       " ('SEE', 1),\n",
       " ('OMG', 1),\n",
       " ('HOT', 1),\n",
       " ('WOW', 1)]"
      ]
     },
     "execution_count": 14,
     "metadata": {},
     "output_type": "execute_result"
    }
   ],
   "source": [
    "cd = sorted(NGRAMS_DICT.items(),key=lambda x: (x[1], len(x[0])),reverse=True)\n",
    "cd"
   ]
  },
  {
   "cell_type": "code",
   "execution_count": 15,
   "id": "af4869d5",
   "metadata": {},
   "outputs": [
    {
     "name": "stdout",
     "output_type": "stream",
     "text": [
      "(PERSON Rosamund/NNP Pike/NNP Jessica/NNP Chaistain/NNP)\n",
      "[('Rosamund', 'NNP'), ('Pike', 'NNP'), ('Jessica', 'NNP'), ('Chaistain', 'NNP')]\n",
      "Type:  PERSON Name:  Rosamund Pike Jessica Chaistain \n",
      "(PERSON Jennifer/NNP Lopez/NNP)\n",
      "[('Jennifer', 'NNP'), ('Lopez', 'NNP')]\n",
      "Type:  PERSON Name:  Jennifer Lopez \n"
     ]
    }
   ],
   "source": [
    "text = 'Best dressed noms Rosamund Pike Jessica Chaistain &amp; Jennifer Lopez'\n",
    "nltk_results = ne_chunk(pos_tag(word_tokenize(text)))\n",
    "for nltk_result in nltk_results:\n",
    "    if type(nltk_result) == Tree:\n",
    "        name = ''\n",
    "        print(nltk_result)\n",
    "        print(nltk_result.leaves())\n",
    "        for nltk_result_leaf in nltk_result.leaves():\n",
    "            name += nltk_result_leaf[0] + ' '\n",
    "        print ('Type: ', nltk_result.label(), 'Name: ', name)"
   ]
  }
 ],
 "metadata": {
  "kernelspec": {
   "display_name": "Python 3 (ipykernel)",
   "language": "python",
   "name": "python3"
  },
  "language_info": {
   "codemirror_mode": {
    "name": "ipython",
    "version": 3
   },
   "file_extension": ".py",
   "mimetype": "text/x-python",
   "name": "python",
   "nbconvert_exporter": "python",
   "pygments_lexer": "ipython3",
   "version": "3.10.0"
  }
 },
 "nbformat": 4,
 "nbformat_minor": 5
}
