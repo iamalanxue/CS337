{
 "cells": [
  {
   "cell_type": "code",
   "execution_count": 45,
   "id": "d62d4db1",
   "metadata": {},
   "outputs": [],
   "source": [
    "import pandas as pd\n",
    "import re\n",
    "import operator\n",
    "import string\n",
    "import nltk \n",
    "from nltk.tag import pos_tag\n",
    "pd.set_option('display.width', 10000)"
   ]
  },
  {
   "cell_type": "code",
   "execution_count": 46,
   "id": "20fcf97a",
   "metadata": {},
   "outputs": [],
   "source": [
    "stopword = nltk.corpus.stopwords.words('english')\n",
    "stopword.extend(['best', 'picture', 'musical', 'Best', 'Picture', 'Musical', 'Comedy', 'comedy', 'RT'])"
   ]
  },
  {
   "cell_type": "code",
   "execution_count": 47,
   "id": "8db7d899",
   "metadata": {},
   "outputs": [],
   "source": [
    "gg = pd.read_json('gg2013.json', orient='records')\n",
    "gg1 = pd.read_json('gg2015.json', orient='records')"
   ]
  },
  {
   "cell_type": "code",
   "execution_count": 97,
   "id": "8656c21c",
   "metadata": {},
   "outputs": [],
   "source": [
    "copy = gg.copy(deep=True)"
   ]
  },
  {
   "cell_type": "code",
   "execution_count": 98,
   "id": "9f84a0a8",
   "metadata": {},
   "outputs": [],
   "source": [
    "def removePunc(x):\n",
    "#     new_string = x.translate(str.maketrans('', '', string.punctuation))\n",
    "    x = re.sub(r'[@#]\\w+', '', x) #taking out hashtags and @ \n",
    "    x = re.sub(r'(https?:\\/\\/)?([\\da-z\\.-]+)\\.([a-z\\.]{2,6})([\\/\\w \\.-]*)', '', x) #taking out links \n",
    "    x = re.sub(r'[!?\\.,\\'\\\":()]+', '', x) #taking out punctuation i.e ? ! . ' : ( ) and \" \n",
    "    x = re.sub(r'RT ', '', x) #taking out the initial \"RT \"\n",
    "    return x.strip()\n",
    "copy['text'] = copy['text'].str.lower()\n",
    "copy['text'] = copy['text'].apply(lambda x: removePunc(str(x)))"
   ]
  },
  {
   "cell_type": "code",
   "execution_count": 99,
   "id": "c26d5199",
   "metadata": {
    "scrolled": true
   },
   "outputs": [
    {
     "name": "stdout",
     "output_type": "stream",
     "text": [
      "174643\n",
      "121706\n"
     ]
    }
   ],
   "source": [
    "test = list(copy['text'].values)\n",
    "print(len(test))\n",
    "s = list(set(test))\n",
    "print(len(s))\n",
    "df = pd.DataFrame(s, columns=['text'])"
   ]
  },
  {
   "cell_type": "code",
   "execution_count": 84,
   "id": "2ed0415c",
   "metadata": {
    "scrolled": true
   },
   "outputs": [],
   "source": [
    "# def findTweets(contains, notcontains=[]):\n",
    "#     data = df.loc[(df['text'].str.contains('|'.join(contains))) & (~df['text'].str.contains('|'.join(notcontains)))]\n",
    "#     return data\n",
    "# con = ['best', 'picture', 'musical', 'comedy', 'wins']\n",
    "# noncon = ['actor', 'actress']\n",
    "# t = findTweets(con, noncon)\n",
    "# print(len(t))\n",
    "# t.head(20)"
   ]
  },
  {
   "cell_type": "code",
   "execution_count": 93,
   "id": "806adcf5",
   "metadata": {
    "scrolled": true
   },
   "outputs": [
    {
     "name": "stdout",
     "output_type": "stream",
     "text": [
      "72\n"
     ]
    },
    {
     "data": {
      "text/html": [
       "<div>\n",
       "<style scoped>\n",
       "    .dataframe tbody tr th:only-of-type {\n",
       "        vertical-align: middle;\n",
       "    }\n",
       "\n",
       "    .dataframe tbody tr th {\n",
       "        vertical-align: top;\n",
       "    }\n",
       "\n",
       "    .dataframe thead th {\n",
       "        text-align: right;\n",
       "    }\n",
       "</style>\n",
       "<table border=\"1\" class=\"dataframe\">\n",
       "  <thead>\n",
       "    <tr style=\"text-align: right;\">\n",
       "      <th></th>\n",
       "      <th>text</th>\n",
       "    </tr>\n",
       "  </thead>\n",
       "  <tbody>\n",
       "    <tr>\n",
       "      <th>654</th>\n",
       "      <td>well deserved rt  les miserables wins the gold...</td>\n",
       "    </tr>\n",
       "    <tr>\n",
       "      <th>3645</th>\n",
       "      <td>rt  golden globes 2013 les miserables wins for...</td>\n",
       "    </tr>\n",
       "    <tr>\n",
       "      <th>5139</th>\n",
       "      <td>wins best motion picture comedy or musical</td>\n",
       "    </tr>\n",
       "    <tr>\n",
       "      <th>6197</th>\n",
       "      <td>rt  “les miserables” wins best motion picture ...</td>\n",
       "    </tr>\n",
       "    <tr>\n",
       "      <th>6200</th>\n",
       "      <td>—&amp;gt; rt  les miserables wins best motion pict...</td>\n",
       "    </tr>\n",
       "    <tr>\n",
       "      <th>7334</th>\n",
       "      <td>wins best picture - drama and    wins best pic...</td>\n",
       "    </tr>\n",
       "    <tr>\n",
       "      <th>8261</th>\n",
       "      <td>woot =] rt  les miserables wins best picture m...</td>\n",
       "    </tr>\n",
       "    <tr>\n",
       "      <th>11314</th>\n",
       "      <td>rt   wins best motion picture comedy/musical r...</td>\n",
       "    </tr>\n",
       "    <tr>\n",
       "      <th>11414</th>\n",
       "      <td>yes  🙌👌👍“ les miserables wins best motion pict...</td>\n",
       "    </tr>\n",
       "    <tr>\n",
       "      <th>11626</th>\n",
       "      <td>les miserables wins for best motion picture-co...</td>\n",
       "    </tr>\n",
       "    <tr>\n",
       "      <th>12954</th>\n",
       "      <td>lesmiserables wins best motion picture comedy ...</td>\n",
       "    </tr>\n",
       "    <tr>\n",
       "      <th>15154</th>\n",
       "      <td>2013 les miserables wins best motion picture -...</td>\n",
       "    </tr>\n",
       "    <tr>\n",
       "      <th>15599</th>\n",
       "      <td>wins best motion picture comedy or musical  br...</td>\n",
       "    </tr>\n",
       "    <tr>\n",
       "      <th>15786</th>\n",
       "      <td>yay les miserables wins best picture comedy or...</td>\n",
       "    </tr>\n",
       "    <tr>\n",
       "      <th>15823</th>\n",
       "      <td>les miserables wins best motion picture musica...</td>\n",
       "    </tr>\n",
       "    <tr>\n",
       "      <th>17586</th>\n",
       "      <td>rt   wins best motion picture - comedy or musi...</td>\n",
       "    </tr>\n",
       "    <tr>\n",
       "      <th>22920</th>\n",
       "      <td>les miserables wins best motion picture comedy...</td>\n",
       "    </tr>\n",
       "    <tr>\n",
       "      <th>30120</th>\n",
       "      <td>les miserables wins best motion picture comedy...</td>\n",
       "    </tr>\n",
       "    <tr>\n",
       "      <th>30426</th>\n",
       "      <td>les mis wins best picture comedy/musical fuck ...</td>\n",
       "    </tr>\n",
       "    <tr>\n",
       "      <th>31984</th>\n",
       "      <td>wins for best motion picture – comedy or music...</td>\n",
       "    </tr>\n",
       "  </tbody>\n",
       "</table>\n",
       "</div>"
      ],
      "text/plain": [
       "                                                    text\n",
       "654    well deserved rt  les miserables wins the gold...\n",
       "3645   rt  golden globes 2013 les miserables wins for...\n",
       "5139          wins best motion picture comedy or musical\n",
       "6197   rt  “les miserables” wins best motion picture ...\n",
       "6200   —&gt; rt  les miserables wins best motion pict...\n",
       "7334   wins best picture - drama and    wins best pic...\n",
       "8261   woot =] rt  les miserables wins best picture m...\n",
       "11314  rt   wins best motion picture comedy/musical r...\n",
       "11414  yes  🙌👌👍“ les miserables wins best motion pict...\n",
       "11626  les miserables wins for best motion picture-co...\n",
       "12954  lesmiserables wins best motion picture comedy ...\n",
       "15154  2013 les miserables wins best motion picture -...\n",
       "15599  wins best motion picture comedy or musical  br...\n",
       "15786  yay les miserables wins best picture comedy or...\n",
       "15823  les miserables wins best motion picture musica...\n",
       "17586  rt   wins best motion picture - comedy or musi...\n",
       "22920  les miserables wins best motion picture comedy...\n",
       "30120  les miserables wins best motion picture comedy...\n",
       "30426  les mis wins best picture comedy/musical fuck ...\n",
       "31984  wins for best motion picture – comedy or music..."
      ]
     },
     "execution_count": 93,
     "metadata": {},
     "output_type": "execute_result"
    }
   ],
   "source": [
    "df = df.loc[(df['text'].str.contains('best')) & \n",
    "            (df['text'].str.contains('picture')) & \n",
    "            (df['text'].str.contains('musical')) &\n",
    "            (df['text'].str.contains('comedy')) &\n",
    "            (~df['text'].str.contains('actor')) &\n",
    "           (~df['text'].str.contains('actress')) &\n",
    "           (df['text'].str.contains('wins'))]\n",
    "print(len(df))\n",
    "df.to_csv('awards.csv', index=False)\n",
    "df.head(20)"
   ]
  },
  {
   "cell_type": "code",
   "execution_count": 101,
   "id": "3fea935c",
   "metadata": {},
   "outputs": [
    {
     "name": "stdout",
     "output_type": "stream",
     "text": [
      "121706\n",
      "69\n"
     ]
    },
    {
     "data": {
      "text/plain": [
       "'les miserables'"
      ]
     },
     "execution_count": 101,
     "metadata": {},
     "output_type": "execute_result"
    }
   ],
   "source": [
    "def findRows(x, contains, ncontains):\n",
    "    s = \"^\"\n",
    "    for word in contains:\n",
    "        s += f'(?=.*{word})'\n",
    "    for word in ncontains:\n",
    "        s += f'(?!.*{word})'\n",
    "    s += '.*$'\n",
    "    if bool(re.match(s, x)):\n",
    "        return True\n",
    "    else:\n",
    "        False\n",
    "con = ['best', 'picture', 'musical', 'comedy', 'wins']\n",
    "noncon = ['actor', 'actress']\n",
    "df['Rows'] = df['text'].apply(lambda x: findRows(x, con, noncon))\n",
    "print(len(df))\n",
    "# df.head(20)\n",
    "\n",
    "ccc = df[~df['Rows'].isnull()]\n",
    "print(len(ccc))\n",
    "hashNgrams(ccc)\n",
    "# print(bool(re.match('^(?=.*best)(?=.*picture)(?=.*musical)(?=.*comedy)(?=.*wins)(?!.*actor)(?!.*actress).*$', p)))"
   ]
  },
  {
   "cell_type": "code",
   "execution_count": 57,
   "id": "2bfdef59",
   "metadata": {},
   "outputs": [],
   "source": [
    "def nGram(text):\n",
    "    test = text\n",
    "    firstsplit = test.split(' wins ', 1)\n",
    "    if len(firstsplit) > 1:\n",
    "        left = firstsplit[0].split(' ')\n",
    "        left.reverse()\n",
    "        new_list = []\n",
    "        x = \"\"\n",
    "        for i in left:\n",
    "            if(i == \"\"):\n",
    "                new_list.append(x) #HACKS\n",
    "                continue\n",
    "            x =  i + \" \" + x \n",
    "            new_list.append(x)\n",
    "        new_list = [x.rstrip() for x in new_list]\n",
    "    else:\n",
    "        new_list = []\n",
    "    return new_list"
   ]
  },
  {
   "cell_type": "code",
   "execution_count": 61,
   "id": "34029d4c",
   "metadata": {},
   "outputs": [
    {
     "data": {
      "text/plain": [
       "'les miserables'"
      ]
     },
     "execution_count": 61,
     "metadata": {},
     "output_type": "execute_result"
    }
   ],
   "source": [
    "def hashNgrams(dff):\n",
    "    FINAL_NGRAMS = []\n",
    "    NGRAMS_DICT = {}\n",
    "    for i in range(len(dff)):\n",
    "        l = nGram(dff['text'].iloc[i])\n",
    "        for j in l:\n",
    "            if j in NGRAMS_DICT:\n",
    "                NGRAMS_DICT[j] += 1\n",
    "            else:\n",
    "                NGRAMS_DICT[j] = 1\n",
    "    cd = sorted(NGRAMS_DICT.items(),key=operator.itemgetter(1),reverse=True)\n",
    "    return cd[0][0]\n",
    "hashNgrams(df)"
   ]
  },
  {
   "cell_type": "code",
   "execution_count": null,
   "id": "383c2a22",
   "metadata": {},
   "outputs": [],
   "source": []
  },
  {
   "cell_type": "code",
   "execution_count": null,
   "id": "9298c153",
   "metadata": {},
   "outputs": [],
   "source": []
  },
  {
   "cell_type": "code",
   "execution_count": null,
   "id": "f49f9181",
   "metadata": {},
   "outputs": [],
   "source": []
  },
  {
   "cell_type": "code",
   "execution_count": null,
   "id": "abc5f6e4",
   "metadata": {},
   "outputs": [],
   "source": []
  },
  {
   "cell_type": "code",
   "execution_count": null,
   "id": "c3a5b946",
   "metadata": {},
   "outputs": [],
   "source": []
  },
  {
   "cell_type": "code",
   "execution_count": null,
   "id": "f1c8faef",
   "metadata": {},
   "outputs": [],
   "source": []
  },
  {
   "cell_type": "code",
   "execution_count": null,
   "id": "4ed30fee",
   "metadata": {},
   "outputs": [],
   "source": []
  },
  {
   "cell_type": "code",
   "execution_count": null,
   "id": "044f3e9e",
   "metadata": {
    "scrolled": true
   },
   "outputs": [],
   "source": [
    "def findProperNouns(sen):\n",
    "    tagged_sent = pos_tag(sen.split())\n",
    "    propernouns = [word for word,pos in tagged_sent if pos == 'NNP']\n",
    "    return propernouns\n",
    "df['ProperNouns'] = df['text'].apply(lambda x: findProperNouns(x))\n",
    "df.head(30)"
   ]
  },
  {
   "cell_type": "code",
   "execution_count": null,
   "id": "337b6fa2",
   "metadata": {},
   "outputs": [],
   "source": [
    "def removeStopwords(ppn):\n",
    "    text = [word for word in ppn if word not in stopword]\n",
    "    return text\n",
    "df['ProperNounsFiltered'] = df['ProperNouns'].apply(lambda x: removeStopwords(x))\n",
    "df.head(10)"
   ]
  },
  {
   "cell_type": "code",
   "execution_count": null,
   "id": "23031e3a",
   "metadata": {},
   "outputs": [],
   "source": [
    "NGRAMS_DICT = {}\n",
    "for i in range(len(df)):\n",
    "    PN = df['ProperNounsFiltered'].iloc[i]\n",
    "    for word in PN:\n",
    "        if word in NGRAMS_DICT:\n",
    "            NGRAMS_DICT[word] += 1\n",
    "        else:\n",
    "            NGRAMS_DICT[word] = 1\n",
    "cd = sorted(NGRAMS_DICT.items(),key=operator.itemgetter(1),reverse=True)\n",
    "cd"
   ]
  }
 ],
 "metadata": {
  "kernelspec": {
   "display_name": "Python 3 (ipykernel)",
   "language": "python",
   "name": "python3"
  },
  "language_info": {
   "codemirror_mode": {
    "name": "ipython",
    "version": 3
   },
   "file_extension": ".py",
   "mimetype": "text/x-python",
   "name": "python",
   "nbconvert_exporter": "python",
   "pygments_lexer": "ipython3",
   "version": "3.10.0"
  }
 },
 "nbformat": 4,
 "nbformat_minor": 5
}
