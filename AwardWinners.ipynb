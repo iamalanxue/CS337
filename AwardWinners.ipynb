{
 "cells": [
  {
   "cell_type": "code",
   "execution_count": 1,
   "id": "d62d4db1",
   "metadata": {},
   "outputs": [],
   "source": [
    "import pandas as pd\n",
    "import re\n",
    "import operator\n",
    "import string\n",
    "import nltk \n",
    "from nltk.tag import pos_tag\n",
    "pd.set_option('display.width', 10000)"
   ]
  },
  {
   "cell_type": "code",
   "execution_count": 2,
   "id": "20fcf97a",
   "metadata": {},
   "outputs": [],
   "source": [
    "stopword = nltk.corpus.stopwords.words('english')\n",
    "stopword.extend(['best', 'picture', 'musical', 'Best', 'Picture', 'Musical', 'Comedy', 'comedy', 'RT'])"
   ]
  },
  {
   "cell_type": "code",
   "execution_count": 3,
   "id": "8db7d899",
   "metadata": {},
   "outputs": [],
   "source": [
    "gg = pd.read_json('gg2013.json', orient='records')\n",
    "gg1 = pd.read_json('gg2015.json', orient='records')"
   ]
  },
  {
   "cell_type": "code",
   "execution_count": 4,
   "id": "8656c21c",
   "metadata": {},
   "outputs": [],
   "source": [
    "copy = gg.copy(deep=True)"
   ]
  },
  {
   "cell_type": "code",
   "execution_count": 5,
   "id": "9f84a0a8",
   "metadata": {},
   "outputs": [],
   "source": [
    "def removePunc(x):\n",
    "#     new_string = x.translate(str.maketrans('', '', string.punctuation))\n",
    "    x = re.sub(r'[@#]\\w+', '', x) #taking out hashtags and @ \n",
    "    x = re.sub(r'(https?:\\/\\/)?([\\da-z\\.-]+)\\.([a-z\\.]{2,6})([\\/\\w \\.-]*)', '', x) #taking out links \n",
    "    x = re.sub(r'[!?\\.,\\'\\\":()]+', '', x) #taking out punctuation i.e ? ! . ' : ( ) and \" \n",
    "    x = re.sub(r'(RT|rt) ', '', x) #taking out the initial \"RT \"\n",
    "    x= re.sub(r'(g|G)olden (g|G)lobes', '', x)\n",
    "    return x.strip()\n",
    "copy['text'] = copy['text'].str.lower()\n",
    "copy['text'] = copy['text'].apply(lambda x: removePunc(str(x)))"
   ]
  },
  {
   "cell_type": "code",
   "execution_count": 6,
   "id": "c26d5199",
   "metadata": {
    "scrolled": true
   },
   "outputs": [
    {
     "name": "stdout",
     "output_type": "stream",
     "text": [
      "174643\n",
      "116942\n"
     ]
    }
   ],
   "source": [
    "test = list(copy['text'].values)\n",
    "print(len(test))\n",
    "s = list(set(test))\n",
    "print(len(s))\n",
    "df = pd.DataFrame(s, columns=['text'])"
   ]
  },
  {
   "cell_type": "code",
   "execution_count": 7,
   "id": "2bfdef59",
   "metadata": {},
   "outputs": [],
   "source": [
    "def nGram(text):\n",
    "    test = text\n",
    "    firstsplit = test.split(' wins ', 1)\n",
    "    if len(firstsplit) > 1:\n",
    "        left = firstsplit[0].split(' ')\n",
    "        left.reverse()\n",
    "        new_list = []\n",
    "        x = \"\"\n",
    "        for i in left:\n",
    "            if(i == \"\"):\n",
    "                new_list.append(x) #HACKS\n",
    "                continue\n",
    "            x =  i + \" \" + x \n",
    "            new_list.append(x)\n",
    "        new_list = [x.rstrip() for x in new_list]\n",
    "    else:\n",
    "        new_list = []\n",
    "    return new_list"
   ]
  },
  {
   "cell_type": "code",
   "execution_count": 8,
   "id": "34029d4c",
   "metadata": {
    "scrolled": false
   },
   "outputs": [],
   "source": [
    "def hashNgrams(dff):\n",
    "    FINAL_NGRAMS = []\n",
    "    NGRAMS_DICT = {}\n",
    "    for i in range(len(dff)):\n",
    "        l = nGram(dff['text'].iloc[i])\n",
    "        for j in l:\n",
    "            if j in NGRAMS_DICT:\n",
    "                NGRAMS_DICT[j] += 1\n",
    "            else:\n",
    "                NGRAMS_DICT[j] = 1\n",
    "    cd = sorted(NGRAMS_DICT.items(),key=lambda x: (x[1], len(x[0])),reverse=True)\n",
    "    return cd[0][0]"
   ]
  },
  {
   "cell_type": "code",
   "execution_count": 9,
   "id": "3fea935c",
   "metadata": {
    "scrolled": true
   },
   "outputs": [
    {
     "name": "stdout",
     "output_type": "stream",
     "text": [
      "116942\n",
      "82\n"
     ]
    },
    {
     "data": {
      "text/plain": [
       "'lewis'"
      ]
     },
     "execution_count": 9,
     "metadata": {},
     "output_type": "execute_result"
    }
   ],
   "source": [
    "def findRows(x, contains, ncontains):\n",
    "    s = \"^\"\n",
    "    for word in contains:\n",
    "        s += f'(?=.*{word})'\n",
    "    for word in ncontains:\n",
    "        s += f'(?!.*{word})'\n",
    "    s += '.*$'\n",
    "    if bool(re.match(s, x)):\n",
    "        return True\n",
    "    else:\n",
    "        False\n",
    "con = ['best', 'tv', 'drama', 'actor']\n",
    "noncon = ['actress']\n",
    "df['Rows'] = df['text'].apply(lambda x: findRows(x, con, noncon))\n",
    "print(len(df))\n",
    "df.head(20)\n",
    "\n",
    "ccc = df[~df['Rows'].isnull()]\n",
    "print(len(ccc))\n",
    "hashNgrams(ccc)\n",
    "# print(bool(re.match('^(?=.*best)(?=.*picture)(?=.*musical)(?=.*comedy)(?=.*wins)(?!.*actor)(?!.*actress).*$', p)))"
   ]
  },
  {
   "cell_type": "code",
   "execution_count": 10,
   "id": "724dec27",
   "metadata": {},
   "outputs": [],
   "source": [
    "ALLAWARDS = [['best', 'picture', 'drama'], ['actor', 'actress'],\n",
    "['best', 'picture', 'musical', 'comedy'], ['actor', 'actress'],\n",
    "['best', 'picture', 'drama', 'actress'], ['actor'],\n",
    "['best', 'picture', 'drama', 'actor'], ['actress'],\n",
    "['best', 'picture', 'musical', 'comedy', 'actress'], ['actor'],\n",
    "['best', 'picture', 'musical', 'comedy', 'actor'], ['actress'],\n",
    "['best', 'picture', 'supporting', 'actress'], ['actor'],\n",
    "['best', 'picture', 'supporting', 'actor'], ['actress'],\n",
    "['best', 'picture', 'director'], [],\n",
    "['best', 'picture', 'screenplay'], [],\n",
    "['best', 'picture', 'animated'], [],\n",
    "['best', 'foreign', 'language'], [],\n",
    "['best', 'picture', 'score'], [],\n",
    "['best', 'picture', 'song'],[],\n",
    "['best', 'drama', 'series'], [],\n",
    "['best', 'musical', 'comedy', 'series'], [],\n",
    "['best', 'television', 'picture'], ['actor', 'actress'],\n",
    "['best', 'tv', 'picture', 'actress'], ['actor'], #discrepenacy might break in 2015\n",
    "['best', 'television', 'picture', 'actor'], ['actress'] ,\n",
    "['best', 'television', 'drama', 'series', 'actress'], ['actor'],\n",
    "['best', 'tv', 'drama', 'actor'], ['actress'], #might break in 2015\n",
    "['best', 'musical', 'comedy', 'series', 'tv', 'actress'], ['actor'],\n",
    "['best', 'musical', 'comedy', 'series', 'tv', 'actor'], ['actress'],\n",
    "['best', 'tv', 'supporting', 'actress'], ['actor'],\n",
    "['best', 'tv', 'supporting', 'actor'], ['actress'],\n",
    "['cecil', 'award'], []] "
   ]
  },
  {
   "cell_type": "code",
   "execution_count": 11,
   "id": "cd0ca4de",
   "metadata": {},
   "outputs": [],
   "source": [
    "awardNames = [ 'best motion picture - drama', \n",
    "'best motion picture - comedy or musical', \n",
    "'best performance by an actress in a motion picture - drama', \n",
    "'best performance by an actor in a motion picture - drama', \n",
    "'best performance by an actress in a motion picture - comedy or musical', \n",
    "'best performance by an actor in a motion picture - comedy or musical', \n",
    "'best performance by an actress in a supporting role in a motion picture', \n",
    "'best performance by an actor in a supporting role in a motion picture', \n",
    "'best director - motion picture', \n",
    "'best screenplay - motion picture', \n",
    "'best animated feature film', \n",
    "'best foreign language film', \n",
    "'best original score - motion picture', \n",
    "'best original song - motion picture', \n",
    "'best television series - drama', \n",
    "'best television series - comedy or musical', \n",
    "'best mini-series or motion picture made for television', \n",
    "'best performance by an actress in a mini-series or motion picture made for television', \n",
    "'best performance by an actor in a mini-series or motion picture made for television', \n",
    "'best performance by an actress in a television series - drama', \n",
    "'best performance by an actor in a television series - drama', \n",
    "'best performance by an actress in a television series - comedy or musical', \n",
    "'best performance by an actor in a television series - comedy or musical', \n",
    "'best performance by an actress in a supporting role in a series, mini-series or motion picture made for television', \n",
    "'best performance by an actor in a supporting role in a series, mini-series or motion picture made for television',\n",
    "'cecil b. demille award']\n"
   ]
  },
  {
   "cell_type": "code",
   "execution_count": 12,
   "id": "d487a58f",
   "metadata": {},
   "outputs": [],
   "source": [
    "def findAllWinners(matrix):\n",
    "    winners = []\n",
    "    for i in range(0, len(matrix), 2):\n",
    "        con = matrix[i]\n",
    "        noncon = matrix[i+1]\n",
    "        df['Rows'] = df['text'].apply(lambda x: findRows(x, con, noncon))\n",
    "        ccc = df[~df['Rows'].isnull()]\n",
    "        winner = hashNgrams(ccc)\n",
    "        print(winner)\n",
    "        winners.append(winner)\n",
    "    return winners"
   ]
  },
  {
   "cell_type": "code",
   "execution_count": 13,
   "id": "795c7683",
   "metadata": {},
   "outputs": [
    {
     "name": "stdout",
     "output_type": "stream",
     "text": [
      "argo\n",
      "les miserables\n",
      "jessica chastain\n",
      "daniel day-lewis\n",
      "jennifer lawrence\n",
      "hugh jackman\n",
      "anne hathaway\n",
      "christoph waltz\n",
      "ben affleck\n",
      "quentin tarantino\n",
      "brave\n",
      "amour\n",
      "mychael danna\n",
      "skyfall\n",
      "homeland\n",
      "girls\n",
      "hbos game change\n",
      "julianne moore\n",
      "kevin costner\n",
      "claire danes\n",
      "lewis\n",
      "lena dunham\n",
      "don cheadle\n",
      "maggie smith\n",
      "ed harris\n",
      "jodie foster\n"
     ]
    }
   ],
   "source": [
    "win = findAllWinners(ALLAWARDS)"
   ]
  },
  {
   "cell_type": "code",
   "execution_count": 14,
   "id": "f01b0f48",
   "metadata": {},
   "outputs": [],
   "source": [
    "def makeDict(winners, awards):\n",
    "    awardNames = {}\n",
    "    for i in range(len(winners)):\n",
    "        awardNames[awards[i]] = winners[i]\n",
    "    return awardNames"
   ]
  },
  {
   "cell_type": "code",
   "execution_count": 15,
   "id": "de87fa65",
   "metadata": {
    "scrolled": false
   },
   "outputs": [
    {
     "data": {
      "text/plain": [
       "{'best motion picture - drama': 'argo',\n",
       " 'best motion picture - comedy or musical': 'les miserables',\n",
       " 'best performance by an actress in a motion picture - drama': 'jessica chastain',\n",
       " 'best performance by an actor in a motion picture - drama': 'daniel day-lewis',\n",
       " 'best performance by an actress in a motion picture - comedy or musical': 'jennifer lawrence',\n",
       " 'best performance by an actor in a motion picture - comedy or musical': 'hugh jackman',\n",
       " 'best performance by an actress in a supporting role in a motion picture': 'anne hathaway',\n",
       " 'best performance by an actor in a supporting role in a motion picture': 'christoph waltz',\n",
       " 'best director - motion picture': 'ben affleck',\n",
       " 'best screenplay - motion picture': 'quentin tarantino',\n",
       " 'best animated feature film': 'brave',\n",
       " 'best foreign language film': 'amour',\n",
       " 'best original score - motion picture': 'mychael danna',\n",
       " 'best original song - motion picture': 'skyfall',\n",
       " 'best television series - drama': 'homeland',\n",
       " 'best television series - comedy or musical': 'girls',\n",
       " 'best mini-series or motion picture made for television': 'hbos game change',\n",
       " 'best performance by an actress in a mini-series or motion picture made for television': 'julianne moore',\n",
       " 'best performance by an actor in a mini-series or motion picture made for television': 'kevin costner',\n",
       " 'best performance by an actress in a television series - drama': 'claire danes',\n",
       " 'best performance by an actor in a television series - drama': 'lewis',\n",
       " 'best performance by an actress in a television series - comedy or musical': 'lena dunham',\n",
       " 'best performance by an actor in a television series - comedy or musical': 'don cheadle',\n",
       " 'best performance by an actress in a supporting role in a series, mini-series or motion picture made for television': 'maggie smith',\n",
       " 'best performance by an actor in a supporting role in a series, mini-series or motion picture made for television': 'ed harris',\n",
       " 'cecil b. demille award': 'jodie foster'}"
      ]
     },
     "execution_count": 15,
     "metadata": {},
     "output_type": "execute_result"
    }
   ],
   "source": [
    "#THIS IS THE OUTPUT FOR AWARD WINNERS WHICH IS A DICTIONARY KEYS: AWARD NAMES || VALUE: AWARD WINNERS\n",
    "GGWINNERS = makeDict(win, awardNames)\n",
    "GGWINNERS"
   ]
  }
 ],
 "metadata": {
  "kernelspec": {
   "display_name": "Python 3 (ipykernel)",
   "language": "python",
   "name": "python3"
  },
  "language_info": {
   "codemirror_mode": {
    "name": "ipython",
    "version": 3
   },
   "file_extension": ".py",
   "mimetype": "text/x-python",
   "name": "python",
   "nbconvert_exporter": "python",
   "pygments_lexer": "ipython3",
   "version": "3.10.0"
  }
 },
 "nbformat": 4,
 "nbformat_minor": 5
}
