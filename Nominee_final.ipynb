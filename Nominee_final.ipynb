{
 "cells": [
  {
   "cell_type": "code",
   "execution_count": 1,
   "id": "d62d4db1",
   "metadata": {},
   "outputs": [],
   "source": [
    "import pandas as pd\n",
    "import re\n",
    "import operator\n",
    "import string\n",
    "import nltk \n",
    "from nltk.tag import pos_tag\n",
    "import json\n",
    "from collections import Counter\n",
    "from nltk.util import ngrams\n",
    "\n",
    "\n",
    "pd.set_option('display.width', 10000)"
   ]
  },
  {
   "cell_type": "code",
   "execution_count": 2,
   "id": "20fcf97a",
   "metadata": {},
   "outputs": [],
   "source": [
    "stopword = nltk.corpus.stopwords.words('english')\n",
    "#stopword.extend(['best', 'picture', 'musical', 'Best', 'Picture', 'Musical', 'Comedy', 'comedy', 'RT'])"
   ]
  },
  {
   "cell_type": "code",
   "execution_count": 3,
   "id": "8db7d899",
   "metadata": {},
   "outputs": [],
   "source": [
    "gg = pd.read_json('gg2013.json', orient='records')\n",
    "gg1 = pd.read_json('gg2015.json', orient='records')"
   ]
  },
  {
   "cell_type": "code",
   "execution_count": 4,
   "id": "8656c21c",
   "metadata": {},
   "outputs": [],
   "source": [
    "copy = gg.copy(deep=True)"
   ]
  },
  {
   "cell_type": "code",
   "execution_count": 5,
   "id": "9f84a0a8",
   "metadata": {},
   "outputs": [],
   "source": [
    "def removePunc(x):\n",
    "#     new_string = x.translate(str.maketrans('', '', string.punctuation))\n",
    "    x = re.sub(r'[@#]\\w+', '', x) #taking out hashtags and @ \n",
    "    x = re.sub(r'(https?:\\/\\/)?([\\da-z\\.-]+)\\.([a-z\\.]{2,6})([\\/\\w \\.-]*)', '', x) #taking out links \n",
    "    x = re.sub(r'[!?\\.,\\'\\\":()]+', '', x) #taking out punctuation i.e ? ! . ' : ( ) and \" \n",
    "    x = re.sub(r'(RT|rt) ', '', x) #taking out the initial \"RT \"\n",
    "    x= re.sub(r'(g|G)olden (g|G)lobes', '', x)\n",
    "    return x.strip()\n",
    "#copy['text'] = copy['text'].str.lower()\n",
    "#copy['text'] = copy['text'].apply(lambda x: removePunc(str(x)))\n"
   ]
  },
  {
   "cell_type": "code",
   "execution_count": 10,
   "id": "91bce1ee",
   "metadata": {},
   "outputs": [],
   "source": [
    "def getMovieNom(winner,tweets):\n",
    "        f=open('MovieDatabase.txt',encoding='utf-16')\n",
    "        moviedic={}\n",
    "        tweets = tweets.str.lower()\n",
    "        tweets = tweets.apply(lambda x: removePunc(str(x)))\n",
    "        for i in f.read().split('\\n'):\n",
    "            try:\n",
    "                k=i\n",
    "                if k:\n",
    "                    moviedic[k.lower()]=1\n",
    "            except:\n",
    "                continue\n",
    "        f.close()\n",
    "        count=0\n",
    "        movies = {}\n",
    "        movies[winner]=1\n",
    "        for tweet in tweets:\n",
    "            if winner in tweet:\n",
    "                token = nltk.word_tokenize(tweet)\n",
    "                bigrams = ngrams(token,2)\n",
    "                trigrams= ngrams(token,3)\n",
    "                GG=Counter(bigrams)+Counter(trigrams)+Counter(token)\n",
    "                for i in GG.most_common(50):\n",
    "                    if len(i[0])>3:\n",
    "                        xx=i[0]\n",
    "                    else:\n",
    "                        xx=' '.join(k for k in i[0]).lower()\n",
    "                    if 'the' in xx and len(xx.split())<3:\n",
    "                        continue\n",
    "                    if xx in moviedic.keys():\n",
    "                        movies[xx]=1\n",
    "                        count+=1\n",
    "            if count>10:\n",
    "                break\n",
    "        a=list(movies.keys())[0:6]\n",
    "        if winner in a:\n",
    "            a.remove(winner)\n",
    "        return a"
   ]
  },
  {
   "cell_type": "code",
   "execution_count": 7,
   "id": "0337126f",
   "metadata": {},
   "outputs": [],
   "source": [
    "def Achive_names(tweet,winner,threshhold):\n",
    "    blacklist=['golden','best','globe','motion','actor','actress','hero','picture','drama']\n",
    "    count=0\n",
    "    names={}\n",
    "    nltk_results = nltk.ne_chunk(pos_tag(nltk.word_tokenize(tweet)))\n",
    "    for chunk in nltk_results:\n",
    "        if type(chunk) == nltk.tree.Tree:\n",
    "            if chunk.label() == 'PERSON':\n",
    "                l=[]\n",
    "                for c in chunk[0:4]:\n",
    "                    if c[0].lower() in blacklist:\n",
    "                        break\n",
    "                    else:\n",
    "                        l.append(c[0])\n",
    "                temp = ' '.join(l)\n",
    "                if len(temp.split())==2:\n",
    "                    if temp not in names:\n",
    "                        count+=1\n",
    "                        names[temp.lower()]=1\n",
    "                    else:\n",
    "                        names[temp.lower()]+=1\n",
    "    if count>=threshhold:\n",
    "        return names\n",
    "    return []"
   ]
  },
  {
   "cell_type": "code",
   "execution_count": 8,
   "id": "c26d5199",
   "metadata": {
    "scrolled": true
   },
   "outputs": [],
   "source": [
    "def getNominee(award,winner,tweets):\n",
    "        res=[]\n",
    "        if 'actor'in award or 'actress'in award or 'performance' in award or 'director'in award or'award'in award:\n",
    "            for tweet in tweets:\n",
    "                if winner in tweet.lower():\n",
    "                    result=Achive_names(tweet,winner,5)\n",
    "                    if result:\n",
    "                        candidate=list(result.keys())\n",
    "                        if winner in candidate:\n",
    "                            candidate.remove(winner)\n",
    "                            res.extend(candidate)\n",
    "            return list(set(res))\n",
    "        else:\n",
    "            return getMovieNom(winner,tweets)\n",
    "        \n"
   ]
  },
  {
   "cell_type": "code",
   "execution_count": 11,
   "id": "2ed0415c",
   "metadata": {
    "scrolled": true
   },
   "outputs": [
    {
     "data": {
      "text/plain": [
       "['lincoln', 'argo', 'the hunger games', 'get out']"
      ]
     },
     "execution_count": 11,
     "metadata": {},
     "output_type": "execute_result"
    }
   ],
   "source": [
    "getNominee(\"best original score - motion picture\",\"life of pi\",copy['text'])"
   ]
  }
 ],
 "metadata": {
  "kernelspec": {
   "display_name": "Python 3 (ipykernel)",
   "language": "python",
   "name": "python3"
  },
  "language_info": {
   "codemirror_mode": {
    "name": "ipython",
    "version": 3
   },
   "file_extension": ".py",
   "mimetype": "text/x-python",
   "name": "python",
   "nbconvert_exporter": "python",
   "pygments_lexer": "ipython3",
   "version": "3.10.4"
  }
 },
 "nbformat": 4,
 "nbformat_minor": 5
}
