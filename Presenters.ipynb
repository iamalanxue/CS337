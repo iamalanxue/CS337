{
 "cells": [
  {
   "cell_type": "code",
   "execution_count": 15,
   "id": "252eb6be",
   "metadata": {},
   "outputs": [],
   "source": [
    "import pandas as pd\n",
    "import re\n",
    "import operator\n",
    "import string\n",
    "import nltk \n",
    "from nltk import ne_chunk, pos_tag, word_tokenize\n",
    "from nltk.tree import Tree\n",
    "from nltk.corpus import stopwords\n",
    "pd.options.mode.chained_assignment = None  # default='warn'"
   ]
  },
  {
   "cell_type": "code",
   "execution_count": 16,
   "id": "fae33b8a",
   "metadata": {},
   "outputs": [],
   "source": [
    "ALLAWARDS = [['best', 'picture', 'drama'], ['actor', 'actress'],\n",
    "['best', 'picture', 'musical', 'comedy'], ['actor', 'actress'],\n",
    "['best', 'picture', 'drama', 'actress'], ['actor'],\n",
    "['best', 'picture', 'drama', 'actor'], ['actress'],\n",
    "['best', 'picture', 'musical', 'comedy', 'actress'], ['actor'],\n",
    "['best', 'picture', 'musical', 'comedy', 'actor'], ['actress'],\n",
    "['best', 'picture', 'supporting', 'actress'], ['actor'],\n",
    "['best', 'picture', 'supporting', 'actor'], ['actress'],\n",
    "['best', 'director'], [],\n",
    "['best', 'screenplay'], [],\n",
    "['best', 'animated'], [],\n",
    "['best', 'foreign', 'language'], [],\n",
    "['best', 'score'], [],\n",
    "['best', 'song'],[],\n",
    "['best', 'drama', 'series'], [],\n",
    "['best', 'musical', 'comedy', 'series'], [],\n",
    "['best', 'television', 'picture'], ['actor', 'actress'],\n",
    "['best', 'tv', 'picture', 'actress'], ['actor'], #discrepenacy might break in 2015\n",
    "['best', 'television', 'picture', 'actor'], ['actress'] ,\n",
    "['best', 'television', 'drama', 'series', 'actress'], ['actor'],\n",
    "['best', 'tv', 'drama', 'actor'], ['actress'], #might break in 2015\n",
    "['best', 'musical', 'comedy', 'series', 'tv', 'actress'], ['actor'],\n",
    "['best', 'musical', 'comedy', 'series', 'tv', 'actor'], ['actress'],\n",
    "['best', 'tv', 'supporting', 'actress'], ['actor'],\n",
    "['best', 'tv', 'supporting', 'actor'], ['actress'],\n",
    "['cecil', 'award'], []] "
   ]
  },
  {
   "cell_type": "code",
   "execution_count": 17,
   "id": "c9aa2dae",
   "metadata": {},
   "outputs": [],
   "source": [
    "awardNames = [ 'best motion picture - drama', \n",
    "'best motion picture - comedy or musical', \n",
    "'best performance by an actress in a motion picture - drama', \n",
    "'best performance by an actor in a motion picture - drama', \n",
    "'best performance by an actress in a motion picture - comedy or musical', \n",
    "'best performance by an actor in a motion picture - comedy or musical', \n",
    "'best performance by an actress in a supporting role in a motion picture', \n",
    "'best performance by an actor in a supporting role in a motion picture', \n",
    "'best director - motion picture', \n",
    "'best screenplay - motion picture', \n",
    "'best animated feature film', \n",
    "'best foreign language film', \n",
    "'best original score - motion picture', \n",
    "'best original song - motion picture', \n",
    "'best television series - drama', \n",
    "'best television series - comedy or musical', \n",
    "'best mini-series or motion picture made for television', \n",
    "'best performance by an actress in a mini-series or motion picture made for television', \n",
    "'best performance by an actor in a mini-series or motion picture made for television', \n",
    "'best performance by an actress in a television series - drama', \n",
    "'best performance by an actor in a television series - drama', \n",
    "'best performance by an actress in a television series - comedy or musical', \n",
    "'best performance by an actor in a television series - comedy or musical', \n",
    "'best performance by an actress in a supporting role in a series, mini-series or motion picture made for television', \n",
    "'best performance by an actor in a supporting role in a series, mini-series or motion picture made for television',\n",
    "'cecil b. demille award']\n"
   ]
  },
  {
   "cell_type": "code",
   "execution_count": 18,
   "id": "27124832",
   "metadata": {},
   "outputs": [],
   "source": [
    "categories = [ALLAWARDS[i] for i in range(0, len(ALLAWARDS), 2)]"
   ]
  },
  {
   "cell_type": "code",
   "execution_count": 19,
   "id": "d42b1e2c",
   "metadata": {},
   "outputs": [],
   "source": [
    "gg = pd.read_json('gg2013.json', orient='records')\n",
    "gg1 = pd.read_json('gg2015.json', orient='records')"
   ]
  },
  {
   "cell_type": "code",
   "execution_count": 20,
   "id": "f934470f",
   "metadata": {},
   "outputs": [],
   "source": [
    "copy = gg.copy(deep=True)"
   ]
  },
  {
   "cell_type": "code",
   "execution_count": 21,
   "id": "6c8d07f8",
   "metadata": {},
   "outputs": [],
   "source": [
    "def removePunc(x):\n",
    "    x = re.sub(r'[@#]\\w+', '', x) #taking out hashtags and @ \n",
    "    x = re.sub(r'(https?:\\/\\/)?([\\da-z\\.-]+)\\.([a-z\\.]{2,6})([\\/\\w \\.-]*)', '', x) #taking out links \n",
    "    x = re.sub(r'[!?\\.,\\'\\\":()]+', '', x) #taking out punctuation i.e ? ! . ' and \" \n",
    "    x = re.sub(r'(RT|rt) ', '', x) #taking out the initial \"RT \"\n",
    "    x= re.sub(r'(g|G)olden (g|G)lobes*', '', x)\n",
    "    return x.strip()\n",
    "copy['text'] = copy['text'].str.lower()\n",
    "copy['text'] = copy['text'].apply(lambda x: removePunc(str(x)))"
   ]
  },
  {
   "cell_type": "code",
   "execution_count": 22,
   "id": "fc4063c5",
   "metadata": {},
   "outputs": [
    {
     "name": "stdout",
     "output_type": "stream",
     "text": [
      "174643\n",
      "116922\n"
     ]
    }
   ],
   "source": [
    "#takes out duplicate retweets \n",
    "test = list(copy['text'].values)\n",
    "print(len(test))\n",
    "s = list(set(test))\n",
    "print(len(s))\n",
    "df = pd.DataFrame(s, columns=['text'])"
   ]
  },
  {
   "cell_type": "code",
   "execution_count": 23,
   "id": "7155089f",
   "metadata": {
    "scrolled": true
   },
   "outputs": [],
   "source": [
    "def findRows(x, contains, ncontains):\n",
    "    s = \"^\"\n",
    "    for word in contains:\n",
    "        s += f'(?=.*{word})'\n",
    "    for word in ncontains:\n",
    "        s += f'(?!.*{word})'\n",
    "    s += '.*$'\n",
    "    if bool(re.match(s, x)):\n",
    "        return True\n",
    "    else:\n",
    "        False\n",
    "# con = ['best', 'screenplay']\n",
    "# noncon = []\n",
    "# df['Rows'] = df['text'].apply(lambda x: findRows(x, con, noncon))\n",
    "# print(len(df))\n",
    "# ccc = df[~df['Rows'].isnull()]\n",
    "# print(len(ccc))"
   ]
  },
  {
   "cell_type": "code",
   "execution_count": 24,
   "id": "0a10e52c",
   "metadata": {},
   "outputs": [],
   "source": [
    "def findPersonNames(text):\n",
    "# text = 'Jessica Chastain so far is the best dressed Best body at the  ðŸ˜'\n",
    "    text = text.title()\n",
    "    names = []\n",
    "    MAGIC_WORDS = ['Presents', 'Presenting', 'Presented', 'Introducing', 'Introduces', 'Awarding', 'Gives', 'Giving', 'Gave', 'Announce', 'Announcing']\n",
    "    for w in MAGIC_WORDS:\n",
    "        if len(text.split(w)) > 1:\n",
    "            text = text.split(w)[0]\n",
    "            break\n",
    "    nltk_results = ne_chunk(pos_tag(word_tokenize(text)))\n",
    "    for nltk_result in nltk_results:\n",
    "        if type(nltk_result) == Tree:\n",
    "            name = ''\n",
    "            for nltk_result_leaf in nltk_result.leaves():\n",
    "                if nltk_result_leaf[0] != 'Best':\n",
    "                    name += nltk_result_leaf[0] + ' '\n",
    "            names.append(name.strip())\n",
    "#             print ('Type: ', nltk_result.label(), 'Name: ', name)\n",
    "    return names"
   ]
  },
  {
   "cell_type": "code",
   "execution_count": 26,
   "id": "e216dfa1",
   "metadata": {},
   "outputs": [],
   "source": [
    "def HASHGRAMS(df):\n",
    "    df['ProperNouns'] = df['text'].apply(lambda x: findPersonNames(x))\n",
    "    NGRAMS_DICT = {}\n",
    "    for i in range(len(df)):\n",
    "        PN = df['ProperNouns'].iloc[i]\n",
    "        if len(PN) > 0: \n",
    "            for j in PN:\n",
    "                if j == '': #take out empty string for some reason its added in there wack\n",
    "                    continue\n",
    "                name = j\n",
    "                if len(name.split()) > 2:\n",
    "                    multipleNames = name.split()\n",
    "                    for n in range(0, len(multipleNames)-1, 2):\n",
    "                        name = multipleNames[n] + ' ' + multipleNames[n+1]\n",
    "                else:\n",
    "                    name = j\n",
    "                if name in NGRAMS_DICT:\n",
    "                    NGRAMS_DICT[name] += 1\n",
    "                else:\n",
    "                    NGRAMS_DICT[name] = 1\n",
    "    cd = sorted(NGRAMS_DICT.items(),key=lambda x: (x[1], len(x[0])),reverse=True)\n",
    "    top2 = [l[0] for l in cd[0:2]]\n",
    "    return top2\n",
    "    \n",
    "def makeDict(winners, awards):\n",
    "    awardNames = {}\n",
    "    for i in range(len(winners)):\n",
    "        awardNames[awards[i]] = winners[i]\n",
    "    return awardNames   "
   ]
  },
  {
   "cell_type": "code",
   "execution_count": 27,
   "id": "f4d69448",
   "metadata": {
    "scrolled": true
   },
   "outputs": [],
   "source": [
    "p = 0\n",
    "allpresenters = []\n",
    "for category in categories:\n",
    "    con = category\n",
    "    noncon = []\n",
    "    df['Rows'] = df['text'].apply(lambda x: findRows(x, con, noncon))\n",
    "    ccc = df[~df['Rows'].isnull()]\n",
    "    dum = ccc.loc[ccc['text'].str.contains('presents') |\n",
    "              ccc['text'].str.contains('presenting') | \n",
    "              ccc['text'].str.contains('presented') |\n",
    "             ccc['text'].str.contains('introducing') |\n",
    "             ccc['text'].str.contains('introduces') |\n",
    "             ccc['text'].str.contains('introduced') |  \n",
    "             ccc['text'].str.contains('awarding') | \n",
    "             ccc['text'].str.contains('gives') | \n",
    "             ccc['text'].str.contains('giving') |\n",
    "            ccc['text'].str.contains('gave')  |\n",
    "            ccc['text'].str.contains('announce') |\n",
    "            ccc['text'].str.contains('announcing')\n",
    "            ]\n",
    "    if len(dum) > 0:\n",
    "        presenters = HASHGRAMS(dum)\n",
    "        allpresenters.append(presenters)\n",
    "#         print('subset of tweets filtered by category length: ', category , len(ccc))\n",
    "#         print('tweets with actual magic words: ', len(dum))\n",
    "    else:\n",
    "        presenters = []\n",
    "        allpresenters.append(presenters)\n",
    "#1 and 2 suss \n",
    "  "
   ]
  },
  {
   "cell_type": "code",
   "execution_count": 28,
   "id": "3514f04c",
   "metadata": {
    "scrolled": false
   },
   "outputs": [
    {
     "data": {
      "text/plain": [
       "{'best motion picture - drama': ['Roberts', 'Julia'],\n",
       " 'best motion picture - comedy or musical': ['Hoffman', 'Dustin'],\n",
       " 'best performance by an actress in a motion picture - drama': ['Clooney',\n",
       "  'George'],\n",
       " 'best performance by an actor in a motion picture - drama': ['Motion Picture',\n",
       "  'Lewis Lincoln'],\n",
       " 'best performance by an actress in a motion picture - comedy or musical': [],\n",
       " 'best performance by an actor in a motion picture - comedy or musical': [],\n",
       " 'best performance by an actress in a supporting role in a motion picture': [],\n",
       " 'best performance by an actor in a supporting role in a motion picture': [],\n",
       " 'best director - motion picture': ['Halle', 'Rosario Dawson'],\n",
       " 'best screenplay - motion picture': ['Robepattinson', 'Tarantino Screenplay'],\n",
       " 'best animated feature film': ['Animated Feature', 'Bravery Joke'],\n",
       " 'best foreign language film': ['Arnold Schwarzenegger', 'Sylvester Stallone'],\n",
       " 'best original score - motion picture': ['Mychael Danna', 'Musical Score'],\n",
       " 'best original song - motion picture': ['Taylor Swift', 'Watch Adele'],\n",
       " 'best television series - drama': ['Drama Series'],\n",
       " 'best television series - comedy or musical': ['Jimmy Fallon', 'Jay'],\n",
       " 'best mini-series or motion picture made for television': [],\n",
       " 'best performance by an actress in a mini-series or motion picture made for television': [],\n",
       " 'best performance by an actor in a mini-series or motion picture made for television': [],\n",
       " 'best performance by an actress in a television series - drama': [],\n",
       " 'best performance by an actor in a television series - drama': [],\n",
       " 'best performance by an actress in a television series - comedy or musical': [],\n",
       " 'best performance by an actor in a television series - comedy or musical': [],\n",
       " 'best performance by an actress in a supporting role in a series, mini-series or motion picture made for television': ['Kerry Washington',\n",
       "  'Dennis'],\n",
       " 'best performance by an actor in a supporting role in a series, mini-series or motion picture made for television': [],\n",
       " 'cecil b. demille award': ['Robedowney Jr', 'Jodie']}"
      ]
     },
     "execution_count": 28,
     "metadata": {},
     "output_type": "execute_result"
    }
   ],
   "source": [
    "makeDict(allpresenters, awardNames)"
   ]
  },
  {
   "cell_type": "code",
   "execution_count": 29,
   "id": "02a20c8b",
   "metadata": {},
   "outputs": [],
   "source": [
    "NGRAMS_DICT = {}\n",
    "for i in range(len(dum)):\n",
    "    PN = dum['ProperNouns'].iloc[i]\n",
    "    if len(PN) > 0: \n",
    "        for j in PN:\n",
    "            if j == '': #take out empty string for some reason its added in there wack\n",
    "                continue\n",
    "            name = j\n",
    "            if len(name.split()) > 2:\n",
    "                multipleNames = name.split()\n",
    "                for n in range(0, len(multipleNames)-1, 2):\n",
    "                    name = multipleNames[n] + ' ' + multipleNames[n+1]\n",
    "            else:\n",
    "                name = j\n",
    "            if name in NGRAMS_DICT:\n",
    "                NGRAMS_DICT[name] += 1\n",
    "            else:\n",
    "                NGRAMS_DICT[name] = 1"
   ]
  },
  {
   "cell_type": "code",
   "execution_count": 30,
   "id": "3e32cfe4",
   "metadata": {},
   "outputs": [
    {
     "data": {
      "text/plain": [
       "[('Cecil', 4),\n",
       " ('Robedowney Jr', 3),\n",
       " ('Jodie Foster', 3),\n",
       " ('Award', 2),\n",
       " ('Jodie', 2),\n",
       " ('Achievement Award', 2),\n",
       " ('Jajajajajaja', 1),\n",
       " ('Mille Award', 1),\n",
       " ('Lt', 1),\n",
       " ('Great Jodie', 1),\n",
       " ('Rdj', 1),\n",
       " ('Awesomeness Overload', 1),\n",
       " ('Her Good', 1),\n",
       " ('Foster Presented', 1),\n",
       " ('Mel Gibson', 1),\n",
       " ('Your Own', 1)]"
      ]
     },
     "execution_count": 30,
     "metadata": {},
     "output_type": "execute_result"
    }
   ],
   "source": [
    "cd = sorted(NGRAMS_DICT.items(),key=lambda x: (x[1]),reverse=True)\n",
    "cd"
   ]
  },
  {
   "cell_type": "code",
   "execution_count": 12,
   "id": "2b5f482e",
   "metadata": {},
   "outputs": [
    {
     "data": {
      "text/plain": [
       "'Robepattinson Alepresenting Best Screenplay Motion Picture With Amanda Seyfried Right Now'"
      ]
     },
     "execution_count": 12,
     "metadata": {},
     "output_type": "execute_result"
    }
   ],
   "source": [
    "text = 'robepattinson alepresenting best screenplay motion picture with amanda seyfried right now'.title()\n",
    "text"
   ]
  },
  {
   "cell_type": "code",
   "execution_count": 13,
   "id": "35c4ffcd",
   "metadata": {
    "scrolled": true
   },
   "outputs": [
    {
     "name": "stdout",
     "output_type": "stream",
     "text": [
      "(PERSON Robepattinson/NNP)\n",
      "Type:  PERSON Name:  Robepattinson \n",
      "('Alepresenting', 'NNP')\n",
      "('Best', 'NNP')\n",
      "('Screenplay', 'NNP')\n",
      "('Motion', 'NNP')\n",
      "('Picture', 'NNP')\n",
      "('With', 'IN')\n",
      "(PERSON Amanda/NNP Seyfried/NNP)\n",
      "Type:  PERSON Name:  Amanda Seyfried \n",
      "('Right', 'NNP')\n",
      "('Now', 'RB')\n"
     ]
    }
   ],
   "source": [
    "nltk_results = ne_chunk(pos_tag(word_tokenize(text)))\n",
    "for nltk_result in nltk_results:\n",
    "    print(nltk_result)\n",
    "    if type(nltk_result) == Tree:\n",
    "        name = ''\n",
    "        for nltk_result_leaf in nltk_result.leaves():\n",
    "            name += nltk_result_leaf[0] + ' '\n",
    "        print ('Type: ', nltk_result.label(), 'Name: ', name)"
   ]
  }
 ],
 "metadata": {
  "kernelspec": {
   "display_name": "Python 3 (ipykernel)",
   "language": "python",
   "name": "python3"
  },
  "language_info": {
   "codemirror_mode": {
    "name": "ipython",
    "version": 3
   },
   "file_extension": ".py",
   "mimetype": "text/x-python",
   "name": "python",
   "nbconvert_exporter": "python",
   "pygments_lexer": "ipython3",
   "version": "3.10.0"
  }
 },
 "nbformat": 4,
 "nbformat_minor": 5
}
