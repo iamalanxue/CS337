{
 "cells": [
  {
   "cell_type": "code",
   "execution_count": 1,
   "id": "252eb6be",
   "metadata": {},
   "outputs": [],
   "source": [
    "import pandas as pd\n",
    "import re\n",
    "import operator\n",
    "import string\n",
    "import nltk \n",
    "from nltk import ne_chunk, pos_tag, word_tokenize\n",
    "from nltk.tree import Tree\n",
    "from nltk.corpus import stopwords"
   ]
  },
  {
   "cell_type": "code",
   "execution_count": 31,
   "id": "fae33b8a",
   "metadata": {},
   "outputs": [],
   "source": [
    "ALLAWARDS = [['best', 'picture', 'drama'], ['actor', 'actress'],\n",
    "['best', 'picture', 'musical', 'comedy'], ['actor', 'actress'],\n",
    "['best', 'picture', 'drama', 'actress'], ['actor'],\n",
    "['best', 'picture', 'drama', 'actor'], ['actress'],\n",
    "['best', 'picture', 'musical', 'comedy', 'actress'], ['actor'],\n",
    "['best', 'picture', 'musical', 'comedy', 'actor'], ['actress'],\n",
    "['best', 'picture', 'supporting', 'actress'], ['actor'],\n",
    "['best', 'picture', 'supporting', 'actor'], ['actress'],\n",
    "['best', 'picture', 'director'], [],\n",
    "['best', 'picture', 'screenplay'], [],\n",
    "['best', 'picture', 'animated'], [],\n",
    "['best', 'foreign', 'language'], [],\n",
    "['best', 'picture', 'score'], [],\n",
    "['best', 'picture', 'song'],[],\n",
    "['best', 'drama', 'series'], [],\n",
    "['best', 'musical', 'comedy', 'series'], [],\n",
    "['best', 'television', 'picture'], ['actor', 'actress'],\n",
    "['best', 'tv', 'picture', 'actress'], ['actor'], #discrepenacy might break in 2015\n",
    "['best', 'television', 'picture', 'actor'], ['actress'] ,\n",
    "['best', 'television', 'drama', 'series', 'actress'], ['actor'],\n",
    "['best', 'tv', 'drama', 'actor'], ['actress'], #might break in 2015\n",
    "['best', 'musical', 'comedy', 'series', 'tv', 'actress'], ['actor'],\n",
    "['best', 'musical', 'comedy', 'series', 'tv', 'actor'], ['actress'],\n",
    "['best', 'tv', 'supporting', 'actress'], ['actor'],\n",
    "['best', 'tv', 'supporting', 'actor'], ['actress'],\n",
    "['cecil', 'award'], []] "
   ]
  },
  {
   "cell_type": "code",
   "execution_count": 45,
   "id": "27124832",
   "metadata": {},
   "outputs": [
    {
     "data": {
      "text/plain": [
       "[['best', 'picture', 'drama'],\n",
       " ['best', 'picture', 'musical', 'comedy'],\n",
       " ['best', 'picture', 'drama', 'actress'],\n",
       " ['best', 'picture', 'drama', 'actor'],\n",
       " ['best', 'picture', 'musical', 'comedy', 'actress'],\n",
       " ['best', 'picture', 'musical', 'comedy', 'actor'],\n",
       " ['best', 'picture', 'supporting', 'actress'],\n",
       " ['best', 'picture', 'supporting', 'actor'],\n",
       " ['best', 'picture', 'director'],\n",
       " ['best', 'picture', 'screenplay'],\n",
       " ['best', 'picture', 'animated'],\n",
       " ['best', 'foreign', 'language'],\n",
       " ['best', 'picture', 'score'],\n",
       " ['best', 'picture', 'song'],\n",
       " ['best', 'drama', 'series'],\n",
       " ['best', 'musical', 'comedy', 'series'],\n",
       " ['best', 'television', 'picture'],\n",
       " ['best', 'tv', 'picture', 'actress'],\n",
       " ['best', 'television', 'picture', 'actor'],\n",
       " ['best', 'television', 'drama', 'series', 'actress'],\n",
       " ['best', 'tv', 'drama', 'actor'],\n",
       " ['best', 'musical', 'comedy', 'series', 'tv', 'actress'],\n",
       " ['best', 'musical', 'comedy', 'series', 'tv', 'actor'],\n",
       " ['best', 'tv', 'supporting', 'actress'],\n",
       " ['best', 'tv', 'supporting', 'actor'],\n",
       " ['cecil', 'award']]"
      ]
     },
     "execution_count": 45,
     "metadata": {},
     "output_type": "execute_result"
    }
   ],
   "source": [
    "categories = [ALLAWARDS[i] for i in range(0, len(ALLAWARDS), 2)]\n",
    "categories"
   ]
  },
  {
   "cell_type": "code",
   "execution_count": 2,
   "id": "d42b1e2c",
   "metadata": {},
   "outputs": [],
   "source": [
    "gg = pd.read_json('gg2013.json', orient='records')\n",
    "gg1 = pd.read_json('gg2015.json', orient='records')"
   ]
  },
  {
   "cell_type": "code",
   "execution_count": 3,
   "id": "f934470f",
   "metadata": {},
   "outputs": [],
   "source": [
    "copy = gg.copy(deep=True)"
   ]
  },
  {
   "cell_type": "code",
   "execution_count": 43,
   "id": "e6119b2b",
   "metadata": {},
   "outputs": [
    {
     "data": {
      "text/html": [
       "<div>\n",
       "<style scoped>\n",
       "    .dataframe tbody tr th:only-of-type {\n",
       "        vertical-align: middle;\n",
       "    }\n",
       "\n",
       "    .dataframe tbody tr th {\n",
       "        vertical-align: top;\n",
       "    }\n",
       "\n",
       "    .dataframe thead th {\n",
       "        text-align: right;\n",
       "    }\n",
       "</style>\n",
       "<table border=\"1\" class=\"dataframe\">\n",
       "  <thead>\n",
       "    <tr style=\"text-align: right;\">\n",
       "      <th></th>\n",
       "      <th>text</th>\n",
       "      <th>user</th>\n",
       "      <th>id</th>\n",
       "      <th>timestamp_ms</th>\n",
       "    </tr>\n",
       "  </thead>\n",
       "  <tbody>\n",
       "    <tr>\n",
       "      <th>0</th>\n",
       "      <td>JLos dress</td>\n",
       "      <td>{'screen_name': 'Dozaaa_xo', 'id': 557374298}</td>\n",
       "      <td>290620657987887104</td>\n",
       "      <td>2013-01-14 00:45:38</td>\n",
       "    </tr>\n",
       "    <tr>\n",
       "      <th>1</th>\n",
       "      <td>Whats making Sofia Vergaras boobs stay like th...</td>\n",
       "      <td>{'screen_name': 'theAmberShow', 'id': 14648726}</td>\n",
       "      <td>290620657887219713</td>\n",
       "      <td>2013-01-14 00:45:38</td>\n",
       "    </tr>\n",
       "    <tr>\n",
       "      <th>2</th>\n",
       "      <td>Kerry Washington is EVERYTHING Dying over her ...</td>\n",
       "      <td>{'screen_name': 'SweetyPW', 'id': 35498686}</td>\n",
       "      <td>290620657828524032</td>\n",
       "      <td>2013-01-14 00:45:38</td>\n",
       "    </tr>\n",
       "    <tr>\n",
       "      <th>3</th>\n",
       "      <td>Anne Hathaway has got me living</td>\n",
       "      <td>{'screen_name': '_NicoleEdwards', 'id': 144430...</td>\n",
       "      <td>290620657799159809</td>\n",
       "      <td>2013-01-14 00:45:38</td>\n",
       "    </tr>\n",
       "    <tr>\n",
       "      <th>4</th>\n",
       "      <td>Jennifer Lopezs lace dress Thoughts</td>\n",
       "      <td>{'screen_name': 'lolaogunnaike', 'id': 134953223}</td>\n",
       "      <td>290620657778188288</td>\n",
       "      <td>2013-01-14 00:45:38</td>\n",
       "    </tr>\n",
       "  </tbody>\n",
       "</table>\n",
       "</div>"
      ],
      "text/plain": [
       "                                                text  \\\n",
       "0                                         JLos dress   \n",
       "1  Whats making Sofia Vergaras boobs stay like th...   \n",
       "2  Kerry Washington is EVERYTHING Dying over her ...   \n",
       "3                    Anne Hathaway has got me living   \n",
       "4                Jennifer Lopezs lace dress Thoughts   \n",
       "\n",
       "                                                user                  id  \\\n",
       "0      {'screen_name': 'Dozaaa_xo', 'id': 557374298}  290620657987887104   \n",
       "1    {'screen_name': 'theAmberShow', 'id': 14648726}  290620657887219713   \n",
       "2        {'screen_name': 'SweetyPW', 'id': 35498686}  290620657828524032   \n",
       "3  {'screen_name': '_NicoleEdwards', 'id': 144430...  290620657799159809   \n",
       "4  {'screen_name': 'lolaogunnaike', 'id': 134953223}  290620657778188288   \n",
       "\n",
       "         timestamp_ms  \n",
       "0 2013-01-14 00:45:38  \n",
       "1 2013-01-14 00:45:38  \n",
       "2 2013-01-14 00:45:38  \n",
       "3 2013-01-14 00:45:38  \n",
       "4 2013-01-14 00:45:38  "
      ]
     },
     "execution_count": 43,
     "metadata": {},
     "output_type": "execute_result"
    }
   ],
   "source": [
    "copy.head()"
   ]
  },
  {
   "cell_type": "code",
   "execution_count": 4,
   "id": "6c8d07f8",
   "metadata": {},
   "outputs": [],
   "source": [
    "def removePunc(x):\n",
    "    x = re.sub(r'[@#]\\w+', '', x) #taking out hashtags and @ \n",
    "    x = re.sub(r'(https?:\\/\\/)?([\\da-z\\.-]+)\\.([a-z\\.]{2,6})([\\/\\w \\.-]*)', '', x) #taking out links \n",
    "    x = re.sub(r'[!?\\.,\\'\\\":()]+', '', x) #taking out punctuation i.e ? ! . ' and \" \n",
    "    x = re.sub(r'(RT|rt) ', '', x) #taking out the initial \"RT \"\n",
    "    x= re.sub(r'(g|G)olden (g|G)lobes*', '', x)\n",
    "    return x.strip()\n",
    "# copy['text'] = copy['text'].str.lower()\n",
    "copy['text'] = copy['text'].apply(lambda x: removePunc(str(x)))"
   ]
  },
  {
   "cell_type": "code",
   "execution_count": 60,
   "id": "fc4063c5",
   "metadata": {},
   "outputs": [
    {
     "name": "stdout",
     "output_type": "stream",
     "text": [
      "174643\n",
      "118369\n"
     ]
    }
   ],
   "source": [
    "#takes out duplicate retweets \n",
    "test = list(copy['text'].values)\n",
    "print(len(test))\n",
    "s = list(set(test))\n",
    "print(len(s))\n",
    "df = pd.DataFrame(s, columns=['text'])"
   ]
  },
  {
   "cell_type": "code",
   "execution_count": 61,
   "id": "7155089f",
   "metadata": {
    "scrolled": true
   },
   "outputs": [
    {
     "name": "stdout",
     "output_type": "stream",
     "text": [
      "118369\n",
      "2\n"
     ]
    }
   ],
   "source": [
    "def findRows(x, contains, ncontains):\n",
    "    s = \"^\"\n",
    "    for word in contains:\n",
    "        s += f'(?=.*{word})'\n",
    "    for word in ncontains:\n",
    "        s += f'(?!.*{word})'\n",
    "    s += '.*$'\n",
    "    if bool(re.match(s, x)):\n",
    "        return True\n",
    "    else:\n",
    "        False\n",
    "con = ['best', 'tv', 'supporting', 'actress']\n",
    "noncon = []\n",
    "df['Rows'] = df['text'].apply(lambda x: findRows(x, con, noncon))\n",
    "print(len(df))\n",
    "ccc = df[~df['Rows'].isnull()]\n",
    "print(len(ccc))"
   ]
  },
  {
   "cell_type": "code",
   "execution_count": 69,
   "id": "f4d69448",
   "metadata": {
    "scrolled": true
   },
   "outputs": [
    {
     "name": "stdout",
     "output_type": "stream",
     "text": [
      "118369\n",
      "subset of tweets filtered by category length:  ['best', 'picture', 'drama'] 51\n",
      "tweets with actual magic words:  3\n",
      "118369\n",
      "subset of tweets filtered by category length:  ['best', 'picture', 'musical', 'comedy'] 37\n",
      "tweets with actual magic words:  0\n",
      "118369\n",
      "subset of tweets filtered by category length:  ['best', 'picture', 'drama', 'actress'] 2\n",
      "tweets with actual magic words:  0\n",
      "118369\n",
      "subset of tweets filtered by category length:  ['best', 'picture', 'drama', 'actor'] 4\n",
      "tweets with actual magic words:  0\n",
      "118369\n",
      "subset of tweets filtered by category length:  ['best', 'picture', 'musical', 'comedy', 'actress'] 3\n",
      "tweets with actual magic words:  0\n",
      "118369\n",
      "subset of tweets filtered by category length:  ['best', 'picture', 'musical', 'comedy', 'actor'] 6\n",
      "tweets with actual magic words:  0\n",
      "118369\n",
      "subset of tweets filtered by category length:  ['best', 'picture', 'supporting', 'actress'] 5\n",
      "tweets with actual magic words:  0\n",
      "118369\n",
      "subset of tweets filtered by category length:  ['best', 'picture', 'supporting', 'actor'] 0\n",
      "tweets with actual magic words:  0\n",
      "118369\n",
      "subset of tweets filtered by category length:  ['best', 'picture', 'director'] 9\n",
      "tweets with actual magic words:  0\n",
      "118369\n",
      "subset of tweets filtered by category length:  ['best', 'picture', 'screenplay'] 6\n",
      "tweets with actual magic words:  0\n",
      "118369\n",
      "subset of tweets filtered by category length:  ['best', 'picture', 'animated'] 2\n",
      "tweets with actual magic words:  0\n",
      "118369\n",
      "subset of tweets filtered by category length:  ['best', 'foreign', 'language'] 9\n",
      "tweets with actual magic words:  0\n",
      "118369\n",
      "subset of tweets filtered by category length:  ['best', 'picture', 'score'] 4\n",
      "tweets with actual magic words:  0\n",
      "118369\n",
      "subset of tweets filtered by category length:  ['best', 'picture', 'song'] 16\n",
      "tweets with actual magic words:  1\n",
      "118369\n",
      "subset of tweets filtered by category length:  ['best', 'drama', 'series'] 36\n",
      "tweets with actual magic words:  1\n",
      "118369\n",
      "subset of tweets filtered by category length:  ['best', 'musical', 'comedy', 'series'] 16\n",
      "tweets with actual magic words:  1\n",
      "118369\n",
      "subset of tweets filtered by category length:  ['best', 'television', 'picture'] 0\n",
      "tweets with actual magic words:  0\n",
      "118369\n",
      "subset of tweets filtered by category length:  ['best', 'tv', 'picture', 'actress'] 0\n",
      "tweets with actual magic words:  0\n",
      "118369\n",
      "subset of tweets filtered by category length:  ['best', 'television', 'picture', 'actor'] 0\n",
      "tweets with actual magic words:  0\n",
      "118369\n",
      "subset of tweets filtered by category length:  ['best', 'television', 'drama', 'series', 'actress'] 1\n",
      "tweets with actual magic words:  0\n",
      "118369\n",
      "subset of tweets filtered by category length:  ['best', 'tv', 'drama', 'actor'] 2\n",
      "tweets with actual magic words:  0\n",
      "118369\n",
      "subset of tweets filtered by category length:  ['best', 'musical', 'comedy', 'series', 'tv', 'actress'] 0\n",
      "tweets with actual magic words:  0\n",
      "118369\n",
      "subset of tweets filtered by category length:  ['best', 'musical', 'comedy', 'series', 'tv', 'actor'] 3\n",
      "tweets with actual magic words:  0\n",
      "118369\n",
      "subset of tweets filtered by category length:  ['best', 'tv', 'supporting', 'actress'] 2\n",
      "tweets with actual magic words:  1\n",
      "118369\n",
      "subset of tweets filtered by category length:  ['best', 'tv', 'supporting', 'actor'] 1\n",
      "tweets with actual magic words:  0\n",
      "118369\n",
      "subset of tweets filtered by category length:  ['cecil', 'award'] 0\n",
      "tweets with actual magic words:  0\n"
     ]
    }
   ],
   "source": [
    "p = 0\n",
    "for category in categories:\n",
    "    con = category\n",
    "    noncon = []\n",
    "    df['Rows'] = df['text'].apply(lambda x: findRows(x, con, noncon))\n",
    "    print(len(df))\n",
    "    ccc = df[~df['Rows'].isnull()]\n",
    "    print('subset of tweets filtered by category length: ', category , len(ccc))\n",
    "    dum = ccc.loc[ccc['text'].str.contains('presents') |\n",
    "              ccc['text'].str.contains('presenting') | \n",
    "              ccc['text'].str.contains('presented') |\n",
    "             ccc['text'].str.contains('introducing') |\n",
    "             ccc['text'].str.contains('introduces') |\n",
    "             ccc['text'].str.contains('introduced') |  \n",
    "             ccc['text'].str.contains('awarding') | \n",
    "             ccc['text'].str.contains('gives') | \n",
    "             ccc['text'].str.contains('giving') |\n",
    "            ccc['text'].str.contains('gave')\n",
    "                  \n",
    "            ]\n",
    "    print('tweets with actual magic words: ', len(dum))\n",
    "    if(len(dum) > 0):\n",
    "        dum.to_csv(f'presenters{p}.csv', index=False)\n",
    "        p += 1"
   ]
  },
  {
   "cell_type": "code",
   "execution_count": 62,
   "id": "afe00777",
   "metadata": {},
   "outputs": [
    {
     "data": {
      "text/plain": [
       "1"
      ]
     },
     "execution_count": 62,
     "metadata": {},
     "output_type": "execute_result"
    }
   ],
   "source": [
    "dum = ccc.loc[ccc['text'].str.contains('presents') |\n",
    "              ccc['text'].str.contains('presenting') | \n",
    "             ccc['text'].str.contains('introducing') |\n",
    "             ccc['text'].str.contains('introduces') |\n",
    "             ccc['text'].str.contains('awarding') | \n",
    "             ccc['text'].str.contains('gives') | \n",
    "             ccc['text'].str.contains('giving')]\n",
    "len(dum)"
   ]
  },
  {
   "cell_type": "code",
   "execution_count": 63,
   "id": "0a10e52c",
   "metadata": {},
   "outputs": [],
   "source": [
    "dum.to_csv('presents.csv', index=False)"
   ]
  },
  {
   "cell_type": "code",
   "execution_count": 27,
   "id": "2b5f482e",
   "metadata": {},
   "outputs": [],
   "source": [
    "text = 'Lancome Ambassadress Julia Roberts looks stunning as she presents the best motion picture drama at the'"
   ]
  },
  {
   "cell_type": "code",
   "execution_count": 30,
   "id": "35c4ffcd",
   "metadata": {
    "scrolled": true
   },
   "outputs": [
    {
     "name": "stdout",
     "output_type": "stream",
     "text": [
      "(PERSON Lancome/NNP)\n",
      "Type:  PERSON Name:  Lancome \n",
      "('Ambassadress', 'NNP')\n",
      "('Julia', 'NNP')\n",
      "('Roberts', 'NNP')\n",
      "('looks', 'VBZ')\n",
      "('stunning', 'VBG')\n",
      "('as', 'IN')\n",
      "('she', 'PRP')\n",
      "('presents', 'VBZ')\n",
      "('the', 'DT')\n",
      "('best', 'JJS')\n",
      "('motion', 'NN')\n",
      "('picture', 'NN')\n",
      "('drama', 'NN')\n",
      "('at', 'IN')\n",
      "('the', 'DT')\n"
     ]
    }
   ],
   "source": [
    "nltk_results = ne_chunk(pos_tag(word_tokenize(text)))\n",
    "for nltk_result in nltk_results:\n",
    "    print(nltk_result)\n",
    "    if type(nltk_result) == Tree:\n",
    "        name = ''\n",
    "        for nltk_result_leaf in nltk_result.leaves():\n",
    "            name += nltk_result_leaf[0] + ' '\n",
    "        print ('Type: ', nltk_result.label(), 'Name: ', name)"
   ]
  }
 ],
 "metadata": {
  "kernelspec": {
   "display_name": "Python 3 (ipykernel)",
   "language": "python",
   "name": "python3"
  },
  "language_info": {
   "codemirror_mode": {
    "name": "ipython",
    "version": 3
   },
   "file_extension": ".py",
   "mimetype": "text/x-python",
   "name": "python",
   "nbconvert_exporter": "python",
   "pygments_lexer": "ipython3",
   "version": "3.10.0"
  }
 },
 "nbformat": 4,
 "nbformat_minor": 5
}
